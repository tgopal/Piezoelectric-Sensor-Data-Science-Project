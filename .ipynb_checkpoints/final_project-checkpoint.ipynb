{
 "cells": [
  {
   "cell_type": "code",
   "execution_count": 1,
   "metadata": {
    "collapsed": true
   },
   "outputs": [],
   "source": [
    "# Imports !\n",
    "\n",
    "%matplotlib inline\n",
    "\n",
    "import pandas as pd\n",
    "import numpy as np\n",
    "import matplotlib.pyplot as plt\n",
    "import patsy\n",
    "import statsmodels.api as sm\n",
    "import scipy.stats as stats\n",
    "import pylab as pl\n",
    "from sklearn.cluster import KMeans\n",
    "from scipy.cluster.vq import whiten"
   ]
  },
  {
   "cell_type": "code",
   "execution_count": 2,
   "metadata": {},
   "outputs": [],
   "source": [
    "# Gather data into dataframes\n",
    "\n",
    "traffic_main_df = pd.read_csv('traffic_counts_datasd.csv')\n",
    "intersections_df = pd.read_csv('Intersections.csv')\n",
    "caltrans_df = pd.read_csv('Caltrans.csv')"
   ]
  },
  {
   "cell_type": "code",
   "execution_count": 3,
   "metadata": {},
   "outputs": [],
   "source": [
    "# Perform data cleaning on the dataframes\n",
    "\n",
    "# Remove directional columns from traffic_counts\n",
    "traffic_main_df.drop('id', 1, inplace=True)\n",
    "traffic_main_df.drop('northbound_count', 1, inplace=True)\n",
    "traffic_main_df.drop('southbound_count', 1, inplace=True)\n",
    "traffic_main_df.drop('all_count', 1, inplace=True)\n",
    "traffic_main_df.drop('eastbound_count', 1, inplace=True)\n",
    "traffic_main_df.drop('westbound_count', 1, inplace=True)\n",
    "traffic_main_df.drop('file_no', 1, inplace=True)\n",
    "traffic_main_df.drop('count_date', 1, inplace=True)\n",
    "\n",
    "#Drop any rows with NaN values in traffic_main counts\n",
    "traffic_main_df.dropna(inplace=True) "
   ]
  },
  {
   "cell_type": "code",
   "execution_count": 4,
   "metadata": {},
   "outputs": [
    {
     "data": {
      "text/html": [
       "<div>\n",
       "<table border=\"1\" class=\"dataframe\">\n",
       "  <thead>\n",
       "    <tr style=\"text-align: right;\">\n",
       "      <th></th>\n",
       "      <th>Primary Street</th>\n",
       "      <th>1st Cross Street</th>\n",
       "      <th>2nd Cross Street</th>\n",
       "      <th>2009</th>\n",
       "      <th>2010</th>\n",
       "      <th>2011</th>\n",
       "      <th>2012</th>\n",
       "      <th>2013</th>\n",
       "      <th>Average AADT</th>\n",
       "    </tr>\n",
       "  </thead>\n",
       "  <tbody>\n",
       "    <tr>\n",
       "      <th>0</th>\n",
       "      <td>A ST</td>\n",
       "      <td>KETTNER BLVD</td>\n",
       "      <td>INDIA ST</td>\n",
       "      <td>5100</td>\n",
       "      <td>6100</td>\n",
       "      <td>6100</td>\n",
       "      <td>6100</td>\n",
       "      <td>6100</td>\n",
       "      <td>5900</td>\n",
       "    </tr>\n",
       "    <tr>\n",
       "      <th>1</th>\n",
       "      <td>A ST</td>\n",
       "      <td>INDIA ST</td>\n",
       "      <td>COLUMBIA ST</td>\n",
       "      <td>7900</td>\n",
       "      <td>6800</td>\n",
       "      <td>6800</td>\n",
       "      <td>6800</td>\n",
       "      <td>6800</td>\n",
       "      <td>7020</td>\n",
       "    </tr>\n",
       "    <tr>\n",
       "      <th>2</th>\n",
       "      <td>A ST</td>\n",
       "      <td>COLUMBIA ST</td>\n",
       "      <td>FRONT ST</td>\n",
       "      <td>8700</td>\n",
       "      <td>10100</td>\n",
       "      <td>10100</td>\n",
       "      <td>10100</td>\n",
       "      <td>8800</td>\n",
       "      <td>9560</td>\n",
       "    </tr>\n",
       "    <tr>\n",
       "      <th>3</th>\n",
       "      <td>A ST</td>\n",
       "      <td>FRONT ST</td>\n",
       "      <td>1ST AVE</td>\n",
       "      <td>12600</td>\n",
       "      <td>12000</td>\n",
       "      <td>9300</td>\n",
       "      <td>9300</td>\n",
       "      <td>11400</td>\n",
       "      <td>10920</td>\n",
       "    </tr>\n",
       "    <tr>\n",
       "      <th>4</th>\n",
       "      <td>A ST</td>\n",
       "      <td>1ST AVE</td>\n",
       "      <td>4TH AVE</td>\n",
       "      <td>11500</td>\n",
       "      <td>10800</td>\n",
       "      <td>10800</td>\n",
       "      <td>10800</td>\n",
       "      <td>10800</td>\n",
       "      <td>10940</td>\n",
       "    </tr>\n",
       "  </tbody>\n",
       "</table>\n",
       "</div>"
      ],
      "text/plain": [
       "  Primary Street 1st Cross Street 2nd Cross Street   2009   2010   2011  \\\n",
       "0           A ST     KETTNER BLVD         INDIA ST   5100   6100   6100   \n",
       "1           A ST         INDIA ST      COLUMBIA ST   7900   6800   6800   \n",
       "2           A ST      COLUMBIA ST         FRONT ST   8700  10100  10100   \n",
       "3           A ST         FRONT ST          1ST AVE  12600  12000   9300   \n",
       "4           A ST          1ST AVE          4TH AVE  11500  10800  10800   \n",
       "\n",
       "    2012   2013  Average AADT  \n",
       "0   6100   6100          5900  \n",
       "1   6800   6800          7020  \n",
       "2  10100   8800          9560  \n",
       "3   9300  11400         10920  \n",
       "4  10800  10800         10940  "
      ]
     },
     "execution_count": 4,
     "metadata": {},
     "output_type": "execute_result"
    }
   ],
   "source": [
    "# Data cleaning on intersections data\n",
    "\n",
    "intersections_df.drop('Document ID', 1, inplace=True)\n",
    "intersections_df.drop('Remote ID', 1, inplace=True)\n",
    "intersections_df.drop('Filename', 1, inplace=True)\n",
    "intersections_df.drop('Received At', 1, inplace=True)\n",
    "intersections_df.drop('Processed At', 1, inplace=True)\n",
    "\n",
    "# Drop any rows with NaN values in traffic_main counts\n",
    "intersections_df.dropna(inplace=True)\n",
    "\n",
    "# Clean out new page headers (extracted from PDF)\n",
    "intersections_df = intersections_df[intersections_df['1st Cross Street'] != '1st Cross Street']\n",
    "\n",
    "# Clean the traffic count values (get rid of tail symbols e.g. 'N', 'S', etc.)\n",
    "for index, row in intersections_df.iterrows():\n",
    "    row['2009'] = row['2009'].split()[0]\n",
    "    row['2010'] = row['2010'].split()[0]\n",
    "    row['2011'] = row['2011'].split()[0]\n",
    "    row['2012'] = row['2012'].split()[0]\n",
    "    row['2013'] = row['2013'].split()[0]\n",
    "\n",
    "# Taking the average traffic of all the years (2009 - 2013) and storing it in a column called \"Average AADT\"\n",
    "intersections_df['Average AADT'] = 0\n",
    "for i, row in intersections_df.iterrows():\n",
    "    avg = int((int(row['2009']) + int(row['2010']) + int(row['2011']) \n",
    "                                                    + int(row['2012']) + int(row['2013']))) / 5\n",
    "    intersections_df.set_value(i, 'Average AADT', avg) \n",
    "\n",
    "intersections_df.head()"
   ]
  },
  {
   "cell_type": "code",
   "execution_count": 5,
   "metadata": {},
   "outputs": [],
   "source": [
    "# Data cleaning on caltrans dataframe\n",
    "\n",
    "caltrans_df.drop('Caltrans District ID Number', 1, inplace=True)\n",
    "caltrans_df.drop('Route Suffix', 1, inplace=True)\n",
    "caltrans_df.drop('Postmile Prefix', 1, inplace=True)\n",
    "caltrans_df.drop('Postmile Number', 1, inplace=True)\n",
    "caltrans_df.drop('Postmile Suffix', 1, inplace=True)\n",
    "caltrans_df.drop('South or Westbound Peak Hour', 1, inplace=True)\n",
    "caltrans_df.drop('South or Westbound Peak Month', 1, inplace=True)\n",
    "caltrans_df.drop('North or Eastbound Peak Hour', 1, inplace=True)\n",
    "caltrans_df.drop('North or Eastbound Peak Month', 1, inplace=True)\n"
   ]
  },
  {
   "cell_type": "code",
   "execution_count": 6,
   "metadata": {},
   "outputs": [],
   "source": [
    "# Retrieve only San Diego county data\n",
    "caltrans_df = caltrans_df[caltrans_df['County'] == \"San Diego\"]\n",
    "\n",
    "# fill all NaN traffic values (directional) with 0's for average computation\n",
    "caltrans_df['South or Westbound Annual Average Daily Traffic (AADT)'].fillna(0, inplace=True)\n",
    "caltrans_df['North or Eastbound Annual Average Daily Traffic (AADT)'].fillna(0, inplace=True)\n",
    "\n",
    "# append a new column with consolidated directional traffic counts (S/W + N/E)\n",
    "caltrans_df['Total Average Daily Traffic (TADT)'] = (\n",
    "    caltrans_df['South or Westbound Annual Average Daily Traffic (AADT)'] +\n",
    "    caltrans_df['North or Eastbound Annual Average Daily Traffic (AADT)'])"
   ]
  },
  {
   "cell_type": "code",
   "execution_count": 7,
   "metadata": {},
   "outputs": [],
   "source": [
    "# Create a dictionary of street-range locations to total_count\n",
    "main_dict = dict()\n",
    "main_counts = dict() # keeps track of # of keys found\n",
    "\n",
    "for i, row in traffic_main_df.iterrows():\n",
    "    keytp = (row['street_name'], row['limits'])\n",
    "    # If key already exists in the dictionary, append to count and take sum of traffic values\n",
    "    if keytp in main_dict:\n",
    "        main_counts[keytp] = main_counts[keytp] + 1\n",
    "        main_dict[keytp] = (main_dict[keytp] + row['total_count'])\n",
    "    # Otherwise, initialize key to traffic value and count to 1\n",
    "    else:\n",
    "        main_counts[keytp] = 1\n",
    "        main_dict[keytp] = row['total_count']\n",
    "\n",
    "# Computing final average of all traffic values\n",
    "for key in main_dict:\n",
    "    main_dict[key] = main_dict[key] / main_counts[key]\n",
    "\n",
    "total_traffic = dict()\n",
    "for key in main_dict:\n",
    "    street = str(key[0])\n",
    "    if street in total_traffic.keys():\n",
    "        total_traffic[street] = total_traffic[street] + main_dict[key]\n",
    "    else:\n",
    "        total_traffic[street] = main_dict[key]\n",
    "\n",
    "total_traffic = {x:y for x,y in total_traffic.items() if y!=0}\n",
    "        "
   ]
  },
  {
   "cell_type": "code",
   "execution_count": 8,
   "metadata": {},
   "outputs": [],
   "source": [
    "# Creating dictionary for intersection pairs\n",
    "\n",
    "inter_dict = dict()\n",
    "\n",
    "for i, row in intersections_df.iterrows():\n",
    "    key = (row['Primary Street'], row['1st Cross Street'], row['2nd Cross Street'])\n",
    "    # Initialize key to intersection value \n",
    "    inter_dict[key] = row['Average AADT']"
   ]
  },
  {
   "cell_type": "code",
   "execution_count": 9,
   "metadata": {},
   "outputs": [],
   "source": [
    "# Data Visualization\n",
    "from pandas.tools.plotting import scatter_matrix\n",
    "\n"
   ]
  },
  {
   "cell_type": "code",
   "execution_count": null,
   "metadata": {},
   "outputs": [],
   "source": []
  },
  {
   "cell_type": "code",
   "execution_count": null,
   "metadata": {},
   "outputs": [],
   "source": []
  },
  {
   "cell_type": "code",
   "execution_count": 10,
   "metadata": {
    "collapsed": true
   },
   "outputs": [],
   "source": [
    "# Figuring out a way to hone in on the top 10 roads and manually calculating the widths/no of lanes (to )\n",
    "# Equations for cost, energy generated, reducing carbon footprint\n",
    "# cross referencing over the three ways to compute top 10\n",
    "# consider expanding across the road that we determined\n",
    "\n",
    "#         multiply all values by traffic volume\n",
    "# cost depends on (number of lanes, how long the segment is) each ($202,626 per lane, 1 km strip) ($326,095 per lane for 1 mi)\n",
    "# energy generated depends on (worst case, 20 mpg car generates 0.19 MJ by travelling 1 km strip) saving (0.305776 MJ per 1 mi)\n",
    "    # How much is 1 MJ in San Diego county = 21.1 cents per kilowatt hour in san diego (277.78 W. h converts to 1 MJ)\n",
    "# carbon footprint emissions (percentage saved)\n",
    "\n",
    "# We want to do a linear regression analysis with traffic volumes, but need to find another parameter that is relevant\n",
    "# any ideas?\n",
    "\n",
    "# k-means: whole map: how much energy would we expect from a specific road? (k-means into 3 buckets)\n",
    "# discuss reasonable constraints: small no of very busy roads, more problematic to interfere with (best tradeoff)\n",
    "# electricity closer to downtown - the best roads there?\n",
    "# estimate number of lanes based on clusters (be clear on this part)"
   ]
  },
  {
   "cell_type": "code",
   "execution_count": 11,
   "metadata": {},
   "outputs": [],
   "source": [
    "# K-means clustering to find groups of traffic volumes\n",
    "# energy generated depends on (worst case, 20 mpg car generates 0.19 MJ by travelling 1 km strip)\n",
    "# Make a new dataframe joining \n",
    "\n",
    "total_traffic\n",
    "d1 = total_traffic.keys()\n",
    "d1 = [i for i in range(len(d1))]\n",
    "d2 = total_traffic.values()\n",
    "d2 = [int(x) for x in d2]\n",
    "\n",
    "d1w = whiten(d1)\n",
    "d2w = whiten(d2)"
   ]
  },
  {
   "cell_type": "code",
   "execution_count": 12,
   "metadata": {
    "collapsed": true
   },
   "outputs": [],
   "source": [
    "data = np.vstack([d1w, d2w]).T"
   ]
  },
  {
   "cell_type": "code",
   "execution_count": 13,
   "metadata": {},
   "outputs": [],
   "source": [
    "km = KMeans(n_clusters=5)\n",
    "km.fit(data)\n",
    "results = km.predict(data)\n",
    "\n",
    "# Storing each datapoint in an individual cluster\n",
    "l1 = list(total_traffic.keys())\n",
    "clusters = {}\n",
    "n = 0\n",
    "for item in results:\n",
    "    if item in clusters:\n",
    "        clusters[item].append(l1[n])\n",
    "    else:\n",
    "        clusters[item] = [l1[n]]\n",
    "    n+=1"
   ]
  },
  {
   "cell_type": "code",
   "execution_count": null,
   "metadata": {
    "collapsed": true
   },
   "outputs": [],
   "source": []
  },
  {
   "cell_type": "code",
   "execution_count": 14,
   "metadata": {},
   "outputs": [
    {
     "data": {
      "image/png": "[encoded data removed]",
      "text/plain": [
       "<matplotlib.figure.Figure at 0x216c6312b38>"
      ]
     },
     "metadata": {},
     "output_type": "display_data"
    }
   ],
   "source": [
    "# Let's check out the clusters that KMeans found!!!!\n",
    "plt.scatter(d1, d2, c=km.labels_);\n",
    "plt.xlabel('Observation')\n",
    "plt.ylabel('AADT')\n",
    "\n",
    "# Add title, labels and legend\n",
    "plt.title(\"Traffic Data: Location vs TV Clustered\", fontsize=18, fontweight='bold')\n",
    "plt.xlabel('Location Index', fontsize=14);\n",
    "plt.ylabel('Total Traffic Volume', fontsize=14);"
   ]
  },
  {
   "cell_type": "markdown",
   "metadata": {},
   "source": [
    "The above K-means visualization displays five clusters of traffic volumes ranging from large avenues to small, local streets. As you can see, the y-axis represents total traffic volumes on a given x-axis (which represents location index). \n",
    "\n",
    "Each cluster is color coded according to its proximity to a certain mean (k-mean), displaying the type of street it corresponds to. This way, we can map out the location space in terms of avenues, boulevards, local streets, etc. \n",
    "\n",
    "As you can see, the top cluster (coded in the color teal) consists of locations with large traffic values, which we have verified (more or less using Google maps). This will help us categorize a street based on the cluster it belongs to, as well as retrieve important information regarding said street (including energy gained, money generated, number of lanes, and approximate length of street)."
   ]
  },
  {
   "cell_type": "code",
   "execution_count": 15,
   "metadata": {},
   "outputs": [],
   "source": [
    "# Construct average traffic volume segments for each of the 5 clusters\n",
    "map_avgs = dict()\n",
    "currSum = 0\n",
    "currCount = 0\n",
    "\n",
    "for item in clusters:\n",
    "    \n",
    "    # We reset current sum and current count for each new cluster\n",
    "    currSum = 0\n",
    "    currCount = 0\n",
    "    for loc in clusters[item]:\n",
    "        currSum = currSum + total_traffic[loc]\n",
    "        currCount = currCount + 1\n",
    "    \n",
    "    # set dictionary value\n",
    "    map_avgs[item] = currSum / currCount"
   ]
  },
  {
   "cell_type": "code",
   "execution_count": 16,
   "metadata": {},
   "outputs": [
    {
     "name": "stdout",
     "output_type": "stream",
     "text": [
      "1\n",
      "ANTIGUA BL\n",
      "28058.35\n",
      "67.0795539069\n",
      "3\n",
      "EUCLID AV\n",
      "408621.7083333334\n",
      "9689.18340667\n",
      "2\n",
      "BALBOA AV\n",
      "1112507.3063492063\n",
      "16612.210119\n",
      "4\n",
      "MADISON AV\n",
      "24672.333333333336\n",
      "371.602101888\n",
      "0\n",
      "SCOTT ST\n",
      "25080.11111111111\n",
      "82.8786838924\n"
     ]
    }
   ],
   "source": [
    "# Determine the location closest to the average traffic volume within each cluster:\n",
    "for item in clusters:\n",
    "    minDiff = 10000000000000.0\n",
    "    optLoc = \"N/A\"\n",
    "    \n",
    "    for loc in clusters[item]:\n",
    "        if (np.fabs(total_traffic[loc] - map_avgs[item]) < minDiff):\n",
    "            minDiff = np.fabs(total_traffic[loc] - map_avgs[item])\n",
    "            optLoc = loc\n",
    "    print(item)\n",
    "    print(optLoc)\n",
    "    print(total_traffic[optLoc])\n",
    "    print(minDiff)"
   ]
  },
  {
   "cell_type": "code",
   "execution_count": 17,
   "metadata": {
    "collapsed": true
   },
   "outputs": [],
   "source": [
    "# cost per lane per 1 mi * length in miles * number of lanes\n",
    "def computeCost(miles, lanes):\n",
    "    return 326095 * miles * lanes;\n",
    "\n",
    "def computeEnergy(traffic_volume):\n",
    "    return 0.305776 * traffic_volume;\n",
    "\n",
    "# energy in MJ per 20 mpg car over 1 mi * kwh in 1 MJ * cents per kwh in San Diego * number of cars\n",
    "def computeEnergyInDollars(traffic_volume):\n",
    "    return 0.305776 * 277.78 * .211 * traffic_volume;\n",
    "\n",
    "# net gain/loss is (energy's worth in $ - cost of implementation)\n",
    "def computeSavings(energy, cost):\n",
    "    return energy - cost;"
   ]
  },
  {
   "cell_type": "code",
   "execution_count": 18,
   "metadata": {},
   "outputs": [
    {
     "name": "stdout",
     "output_type": "stream",
     "text": [
      "{'Small:1': ('Energy Generated = 7668.89605511111 mJ', 'Energy Revenue = $449486.11464582925', 'Cost = $273919.8', 'Savings = 175566.31464582926', 'Length = 0.84', 'Number of Lanes = 1'), 'Small:2': ('Energy Generated = 7544.207397333334 mJ', 'Energy Revenue = $442177.91540539445', 'Cost = $1010894.5', 'Savings = -568716.5845946055', 'Length = 1.55', 'Number of Lanes = 2'), 'Small:3': ('Energy Generated = 8579.5700296 mJ', 'Energy Revenue = $502862.15515550267', 'Cost = $3326169.0', 'Savings = -2823306.8448444973', 'Length = 2.04', 'Number of Lanes = 5'), 'Medium': ('Energy Generated = 124946.71148733335 mJ', 'Energy Revenue = $7323324.176076757', 'Cost = $9456755.0', 'Savings = -2133430.823923243', 'Length = 5.8', 'Number of Lanes = 5'), 'Large': ('Energy Generated = 340178.0341062349 mJ', 'Energy Revenue = $19938372.060260314', 'Cost = $17374341.599999998', 'Savings = 2564030.4602603167', 'Length = 5.92', 'Number of Lanes = 9')}\n"
     ]
    }
   ],
   "source": [
    "# Create a dictionary storing information about type of street, optimal location within that category of street, \n",
    "# number of lanes approximation, energy generated approximation, and cost approximation\n",
    "\n",
    "clusters_results = dict()\n",
    "\n",
    "energy_scott = computeEnergy(total_traffic['SCOTT ST'])\n",
    "energy_rev_scott = computeEnergyInDollars(total_traffic['SCOTT ST'])\n",
    "cost_scott = computeCost(0.84,1)\n",
    "savings_scott = computeSavings(energy_rev_scott, cost_scott)\n",
    "\n",
    "energy_madison = computeEnergy(total_traffic['MADISON AV'])\n",
    "energy_rev_madison = computeEnergyInDollars(total_traffic['MADISON AV'])\n",
    "cost_madison = computeCost(1.55,2)\n",
    "savings_madison = computeSavings(energy_rev_madison, cost_madison)\n",
    "\n",
    "energy_antigua = computeEnergy(total_traffic['ANTIGUA BL'])\n",
    "energy_rev_antigua = computeEnergyInDollars(total_traffic['ANTIGUA BL'])\n",
    "cost_antigua = computeCost(2.04,5)\n",
    "savings_antigua = computeSavings(energy_rev_antigua, cost_antigua)\n",
    "\n",
    "energy_euclid = computeEnergy(total_traffic['EUCLID AV'])\n",
    "energy_rev_euclid = computeEnergyInDollars(total_traffic['EUCLID AV'])\n",
    "cost_euclid = computeCost(5.80,5)\n",
    "savings_euclid = computeSavings(energy_rev_euclid, cost_euclid)\n",
    "\n",
    "energy_balboa = computeEnergy(total_traffic['BALBOA AV'])\n",
    "energy_rev_balboa = computeEnergyInDollars(total_traffic['BALBOA AV'])\n",
    "cost_balboa = computeCost(5.92,9)\n",
    "savings_balboa = computeSavings(energy_rev_balboa, cost_balboa)\n",
    "\n",
    "clusters_results['Small:1'] = (\"Energy Generated = \" + str(energy_scott)+ \" mJ\", \"Energy Revenue = $\" + str(energy_rev_scott), \"Cost = $\" + str(cost_scott), \"Savings = \" + str(savings_scott), \n",
    "                               \"Length = \" + str(0.84), \"Number of Lanes = \" + str(1))\n",
    "clusters_results['Small:2'] = (\"Energy Generated = \" + str(energy_madison)+ \" mJ\", \"Energy Revenue = $\" + str(energy_rev_madison), \"Cost = $\" + str(cost_madison), \"Savings = \" + str(savings_madison), \n",
    "                               \"Length = \" + str(1.55), \"Number of Lanes = \" + str(2))\n",
    "clusters_results['Small:3'] = (\"Energy Generated = \" + str(energy_antigua)+ \" mJ\", \"Energy Revenue = $\" + str(energy_rev_antigua), \"Cost = $\" + str(cost_antigua), \"Savings = \" + str(savings_antigua), \n",
    "                               \"Length = \" + str(2.04), \"Number of Lanes = \" + str(5))\n",
    "clusters_results['Medium'] = (\"Energy Generated = \" + str(energy_euclid)+ \" mJ\", \"Energy Revenue = $\" + str(energy_rev_euclid), \"Cost = $\" + str(cost_euclid), \"Savings = \" + str(savings_euclid), \n",
    "                              \"Length = \" + str(5.80), \"Number of Lanes = \" + str(5))\n",
    "clusters_results['Large'] = (\"Energy Generated = \" + str(energy_balboa)+ \" mJ\", \"Energy Revenue = $\" + str(energy_rev_balboa), \"Cost = $\" + str(cost_balboa), \"Savings = \" + str(savings_balboa), \n",
    "                             \"Length = \" + str(5.92), \"Number of Lanes = \" + str(9))\n",
    "\n",
    "print(clusters_results)"
   ]
  },
  {
   "cell_type": "code",
   "execution_count": 19,
   "metadata": {},
   "outputs": [
    {
     "name": "stdout",
     "output_type": "stream",
     "text": [
      "Finding info for GENESEE AV...\n",
      "('Energy Generated = 340178.0341062349 mJ', 'Energy Revenue = $19938372.060260314', 'Cost = $17374341.599999998', 'Savings = 2564030.4602603167', 'Length = 5.92', 'Number of Lanes = 9')\n",
      "\n",
      "\n",
      "Finding info for CONVOY ST...\n",
      "('Energy Generated = 8579.5700296 mJ', 'Energy Revenue = $502862.15515550267', 'Cost = $3326169.0', 'Savings = -2823306.8448444973', 'Length = 2.04', 'Number of Lanes = 5')\n",
      "\n",
      "\n",
      "Finding info for HELLO ST...\n",
      "\n",
      "\n"
     ]
    }
   ],
   "source": [
    "# define function: given any street, let's make predictions on energy, cost, profits, and more!\n",
    "\n",
    "def getStreetInfo(street_name):\n",
    "    print(\"Finding info for \" + street_name + \"...\")\n",
    "    for item in clusters:\n",
    "        if street_name in clusters[item] and \"SCOTT ST\" in clusters[item]:\n",
    "            print(clusters_results['Small:1'])\n",
    "        elif street_name in clusters[item] and \"MADISON AV\" in clusters[item]:\n",
    "            print(clusters_results[\"Small:2\"])\n",
    "        elif street_name in clusters[item] and \"ANTIGUA BL\" in clusters[item]:\n",
    "            print(clusters_results[\"Small:3\"])\n",
    "        elif street_name in clusters[item] and \"EUCLID AV\" in clusters[item]:\n",
    "            print(clusters_results[\"Medium\"])\n",
    "        elif street_name in clusters[item] and \"BALBOA AV\" in clusters[item]:\n",
    "            print(clusters_results[\"Large\"])\n",
    "    print(\"\\n\")\n",
    "\n",
    "getStreetInfo(\"GENESEE AV\")\n",
    "getStreetInfo(\"CONVOY ST\")\n",
    "getStreetInfo(\"HELLO ST\")"
   ]
  },
  {
   "cell_type": "code",
   "execution_count": 20,
   "metadata": {},
   "outputs": [],
   "source": [
    "top10 = sorted(inter_dict, key=inter_dict.get, reverse=True)[:10]"
   ]
  },
  {
   "cell_type": "code",
   "execution_count": 21,
   "metadata": {},
   "outputs": [
    {
     "name": "stdout",
     "output_type": "stream",
     "text": [
      "[('FAIRMOUNT AVE', 'INTERSTATE 8', 'CAMINO DEL RIO SOUTH'), 86400]\n",
      "[('NORTH HARBOR DR', 'WINSHIP LN', 'LAUREL ST'), 84400]\n",
      "[('CORONADO BRIDGE/ROUTE', '75 INTERSTATE 5', 'CITY LIMITS'), 79100]\n",
      "[('MIRA MESA BLVD', 'WESTVIEW PKWY', 'INTERSTATE 15'), 74200]\n",
      "[('FAIRMOUNT AVE', 'CAMINO DEL RIO SOUTH', 'MONTEZUMA RD'), 68860]\n",
      "[('WEST MISSION BAY DR', 'INGRAHAM ST', 'SEA WORLD DR'), 67620]\n",
      "[('MIRA MESA BLVD', 'BLACK MOUNTAIN DR', 'WESTVIEW PKWY'), 65000]\n",
      "[('PALM AVE/ROUTE 75', 'SATURN BLVD', 'INTERSTATE 5'), 64040]\n",
      "[('MIRAMAR RD', 'CAMINO RUIZ', 'BLACK MOUNTAIN RD'), 63940]\n",
      "[('MIRAMAR RD', 'NOBEL DR', 'EASTGATE MALL'), 63380]\n"
     ]
    }
   ],
   "source": [
    "top10info = {}\n",
    "for i in top10:\n",
    "    top10info[i] = [i, inter_dict[i]]\n",
    "    print(top10info[i])"
   ]
  },
  {
   "cell_type": "code",
   "execution_count": 22,
   "metadata": {},
   "outputs": [
    {
     "name": "stdout",
     "output_type": "stream",
     "text": [
      "{('FAIRMOUNT AVE', 'INTERSTATE 8', 'CAMINO DEL RIO SOUTH'): [('FAIRMOUNT AVE', 'INTERSTATE 8', 'CAMINO DEL RIO SOUTH'), 86400, 0.3, 6], ('NORTH HARBOR DR', 'WINSHIP LN', 'LAUREL ST'): [('NORTH HARBOR DR', 'WINSHIP LN', 'LAUREL ST'), 84400, 0.7, 7], ('CORONADO BRIDGE/ROUTE', '75 INTERSTATE 5', 'CITY LIMITS'): [('CORONADO BRIDGE/ROUTE', '75 INTERSTATE 5', 'CITY LIMITS'), 79100, 2.1, 5], ('MIRA MESA BLVD', 'WESTVIEW PKWY', 'INTERSTATE 15'): [('MIRA MESA BLVD', 'WESTVIEW PKWY', 'INTERSTATE 15'), 74200, 0.2, 9], ('FAIRMOUNT AVE', 'CAMINO DEL RIO SOUTH', 'MONTEZUMA RD'): [('FAIRMOUNT AVE', 'CAMINO DEL RIO SOUTH', 'MONTEZUMA RD'), 68860, 0.3, 6], ('WEST MISSION BAY DR', 'INGRAHAM ST', 'SEA WORLD DR'): [('WEST MISSION BAY DR', 'INGRAHAM ST', 'SEA WORLD DR'), 67620, 0.3, 6], ('MIRA MESA BLVD', 'BLACK MOUNTAIN DR', 'WESTVIEW PKWY'): [('MIRA MESA BLVD', 'BLACK MOUNTAIN DR', 'WESTVIEW PKWY'), 65000, 0.3, 7], ('PALM AVE/ROUTE 75', 'SATURN BLVD', 'INTERSTATE 5'): [('PALM AVE/ROUTE 75', 'SATURN BLVD', 'INTERSTATE 5'), 64040, 0.3, 6], ('MIRAMAR RD', 'CAMINO RUIZ', 'BLACK MOUNTAIN RD'): [('MIRAMAR RD', 'CAMINO RUIZ', 'BLACK MOUNTAIN RD'), 63940, 0.8, 6], ('MIRAMAR RD', 'NOBEL DR', 'EASTGATE MALL'): [('MIRAMAR RD', 'NOBEL DR', 'EASTGATE MALL'), 63380, 0.3, 7]}\n"
     ]
    }
   ],
   "source": [
    "#manual entries of segment length in miles and average estimate of number of lanes in segment\n",
    "#when doing calculations, could also normalize all of these with 1 mile and see how the costs and stuff look like with \n",
    "#   amount of cars and lanes\n",
    "\n",
    "top10info[('FAIRMOUNT AVE', 'INTERSTATE 8', 'CAMINO DEL RIO SOUTH')].append(0.3)\n",
    "top10info[('FAIRMOUNT AVE', 'INTERSTATE 8', 'CAMINO DEL RIO SOUTH')].append(6)\n",
    "\n",
    "top10info[('NORTH HARBOR DR', 'WINSHIP LN', 'LAUREL ST')].append(0.7)\n",
    "top10info[('NORTH HARBOR DR', 'WINSHIP LN', 'LAUREL ST')].append(7)\n",
    "\n",
    "top10info[('CORONADO BRIDGE/ROUTE', '75 INTERSTATE 5', 'CITY LIMITS')].append(2.1)\n",
    "top10info[('CORONADO BRIDGE/ROUTE', '75 INTERSTATE 5', 'CITY LIMITS')].append(5)\n",
    "\n",
    "top10info[('MIRA MESA BLVD', 'WESTVIEW PKWY', 'INTERSTATE 15')].append(0.2)\n",
    "top10info[('MIRA MESA BLVD', 'WESTVIEW PKWY', 'INTERSTATE 15')].append(9)\n",
    "\n",
    "top10info[('FAIRMOUNT AVE', 'CAMINO DEL RIO SOUTH', 'MONTEZUMA RD')].append(0.3)\n",
    "top10info[('FAIRMOUNT AVE', 'CAMINO DEL RIO SOUTH', 'MONTEZUMA RD')].append(6)\n",
    "\n",
    "top10info[('WEST MISSION BAY DR', 'INGRAHAM ST', 'SEA WORLD DR')].append(0.3)\n",
    "top10info[('WEST MISSION BAY DR', 'INGRAHAM ST', 'SEA WORLD DR')].append(6)\n",
    "\n",
    "top10info[('MIRA MESA BLVD', 'BLACK MOUNTAIN DR', 'WESTVIEW PKWY')].append(0.3)\n",
    "top10info[('MIRA MESA BLVD', 'BLACK MOUNTAIN DR', 'WESTVIEW PKWY')].append(7)\n",
    "\n",
    "top10info[('PALM AVE/ROUTE 75', 'SATURN BLVD', 'INTERSTATE 5')].append(0.3)\n",
    "top10info[('PALM AVE/ROUTE 75', 'SATURN BLVD', 'INTERSTATE 5')].append(6)\n",
    "\n",
    "top10info[('MIRAMAR RD', 'CAMINO RUIZ', 'BLACK MOUNTAIN RD')].append(0.8)\n",
    "top10info[('MIRAMAR RD', 'CAMINO RUIZ', 'BLACK MOUNTAIN RD')].append(6)\n",
    "\n",
    "top10info[('MIRAMAR RD', 'NOBEL DR', 'EASTGATE MALL')].append(0.3)\n",
    "top10info[('MIRAMAR RD', 'NOBEL DR', 'EASTGATE MALL')].append(7)\n",
    "\n",
    "print(top10info)"
   ]
  },
  {
   "cell_type": "code",
   "execution_count": 23,
   "metadata": {},
   "outputs": [
    {
     "name": "stdout",
     "output_type": "stream",
     "text": [
      "586971.0\n",
      "1597865.5\n",
      "3423997.5\n",
      "586971.0\n",
      "586971.0\n",
      "586971.0\n",
      "684799.5\n",
      "586971.0\n",
      "1565256.0\n",
      "684799.5\n"
     ]
    }
   ],
   "source": [
    "top10cost = {}\n",
    "for i in top10info:\n",
    "    # cost per lane per 1 mi * length in miles * number of lanes\n",
    "    top10cost[i] = 326095 * top10info[i][2] * top10info[i][3]\n",
    "    print(top10cost[i])"
   ]
  },
  {
   "cell_type": "code",
   "execution_count": 24,
   "metadata": {},
   "outputs": [
    {
     "name": "stdout",
     "output_type": "stream",
     "text": [
      "1548462.0515973119\n",
      "1512618.0226251518\n",
      "1417631.345848928\n",
      "1329813.474867136\n",
      "1234109.9175114688\n",
      "1211886.6195487294\n",
      "1164930.9415952\n",
      "1147725.8076885631\n",
      "1145933.6062399552\n",
      "1135897.2781277504\n"
     ]
    }
   ],
   "source": [
    "top10energy = {}\n",
    "for i in top10info:\n",
    "    # energy in MJ per 20 mpg car over 1 mi * kwh in 1 MJ * cents per kwh in San Diego * number of cars\n",
    "    top10energy[i] = 0.305776 * 277.78 * .211 * top10info[i][1]\n",
    "    print(top10energy[i])"
   ]
  },
  {
   "cell_type": "code",
   "execution_count": 25,
   "metadata": {},
   "outputs": [
    {
     "name": "stdout",
     "output_type": "stream",
     "text": [
      "961491.0515973119\n",
      "-85247.47737484821\n",
      "-2006366.154151072\n",
      "742842.474867136\n",
      "647138.9175114688\n",
      "624915.6195487294\n",
      "480131.4415952\n",
      "560754.8076885631\n",
      "-419322.3937600448\n",
      "451097.7781277504\n"
     ]
    }
   ],
   "source": [
    "top10savings = {}\n",
    "for i in top10info:\n",
    "    # cost of energy generated - cost of constructing\n",
    "    top10savings[i] = top10energy[i] - top10cost[i]\n",
    "    print(top10savings[i])"
   ]
  },
  {
   "cell_type": "code",
   "execution_count": 26,
   "metadata": {},
   "outputs": [],
   "source": [
    "top10results = []\n",
    "for i in range(0, 10):\n",
    "    top10results.append([top10[i], top10cost[top10[i]], top10energy[top10[i]], top10savings[top10[i]]])"
   ]
  },
  {
   "cell_type": "code",
   "execution_count": 27,
   "metadata": {},
   "outputs": [
    {
     "name": "stdout",
     "output_type": "stream",
     "text": [
      "[('FAIRMOUNT AVE', 'INTERSTATE 8', 'CAMINO DEL RIO SOUTH'), 586971.0, 1548462.0515973119, 961491.0515973119]\n",
      "[('NORTH HARBOR DR', 'WINSHIP LN', 'LAUREL ST'), 1597865.5, 1512618.0226251518, -85247.47737484821]\n",
      "[('CORONADO BRIDGE/ROUTE', '75 INTERSTATE 5', 'CITY LIMITS'), 3423997.5, 1417631.345848928, -2006366.154151072]\n",
      "[('MIRA MESA BLVD', 'WESTVIEW PKWY', 'INTERSTATE 15'), 586971.0, 1329813.474867136, 742842.474867136]\n",
      "[('FAIRMOUNT AVE', 'CAMINO DEL RIO SOUTH', 'MONTEZUMA RD'), 586971.0, 1234109.9175114688, 647138.9175114688]\n",
      "[('WEST MISSION BAY DR', 'INGRAHAM ST', 'SEA WORLD DR'), 586971.0, 1211886.6195487294, 624915.6195487294]\n",
      "[('MIRA MESA BLVD', 'BLACK MOUNTAIN DR', 'WESTVIEW PKWY'), 684799.5, 1164930.9415952, 480131.4415952]\n",
      "[('PALM AVE/ROUTE 75', 'SATURN BLVD', 'INTERSTATE 5'), 586971.0, 1147725.8076885631, 560754.8076885631]\n",
      "[('MIRAMAR RD', 'CAMINO RUIZ', 'BLACK MOUNTAIN RD'), 1565256.0, 1145933.6062399552, -419322.3937600448]\n",
      "[('MIRAMAR RD', 'NOBEL DR', 'EASTGATE MALL'), 684799.5, 1135897.2781277504, 451097.7781277504]\n"
     ]
    }
   ],
   "source": [
    "# segment, cost of building, energy generated cost, savings\n",
    "for i in top10results:\n",
    "    print(i)"
   ]
  },
  {
   "cell_type": "code",
   "execution_count": 40,
   "metadata": {},
   "outputs": [
    {
     "data": {
      "image/png": "[encoded data removed]",
      "text/plain": [
       "<matplotlib.figure.Figure at 0x216c66c9a90>"
      ]
     },
     "metadata": {},
     "output_type": "display_data"
    }
   ],
   "source": [
    "# profit models for any street, avenue, blvd, etc, NOT accounting for infrastructure costs, economic resources, and\n",
    "# wear and tear.\n",
    "\n",
    "def computeProfit(street_name):\n",
    "    for item in clusters:\n",
    "        if street_name in clusters[item] and \"SCOTT ST\" in clusters[item]:\n",
    "            createModel(total_traffic[street_name], 0.84, 1)\n",
    "        elif street_name in clusters[item] and \"MADISON AV\" in clusters[item]:\n",
    "            createModel(total_traffic[street_name], 1.55, 2)\n",
    "        elif street_name in clusters[item] and \"ANTIGUA BL\" in clusters[item]:\n",
    "            createModel(total_traffic[street_name], 2.04, 5)\n",
    "        elif street_name in clusters[item] and \"EUCLID AV\" in clusters[item]:\n",
    "            createModel(total_traffic[street_name], 5.80, 5)\n",
    "        elif street_name in clusters[item] and \"BALBOA AV\" in clusters[item]:\n",
    "            createModel(total_traffic[street_name], 5.92, 9)\n",
    "            \n",
    "def createModel(total_traffic, miles, lanes):\n",
    "    year = []\n",
    "    profit = []\n",
    "    for i in range(1, 6):\n",
    "        year.append(i)\n",
    "        profit.append(computeEnergyInDollars(total_traffic) * i - computeCost(miles, lanes))\n",
    "        \n",
    "    plt.plot(year, profit)\n",
    "\n",
    "computeProfit(\"GENESEE AV\")"
   ]
  }
 ],
 "metadata": {
  "kernelspec": {
   "display_name": "Python 3",
   "language": "python",
   "name": "python3"
  },
  "language_info": {
   "codemirror_mode": {
    "name": "ipython",
    "version": 3
   },
   "file_extension": ".py",
   "mimetype": "text/x-python",
   "name": "python",
   "nbconvert_exporter": "python",
   "pygments_lexer": "ipython3",
   "version": "3.6.0"
  }
 },
 "nbformat": 4,
 "nbformat_minor": 2
}
