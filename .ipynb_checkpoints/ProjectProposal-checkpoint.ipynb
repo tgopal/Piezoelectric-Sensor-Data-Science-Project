{
 "cells": [
  {
   "cell_type": "markdown",
   "metadata": {},
   "source": [
    "# COGS 108 - Assignment 4: Project Proposal"
   ]
  },
  {
   "cell_type": "markdown",
   "metadata": {},
   "source": [
    "## Important\n",
    "\n",
    "- Make sure all group member (3-5 people) are listed in the group members section.\n",
    "- ONE, and only one, member of your group should upload this notebook to TritonED. \n",
    "- Each member of the group will receive the same grade on this assignment. \n",
    "- Keep the file name the same: submit the file 'A4_ProjectProposal.ipynb'"
   ]
  },
  {
   "cell_type": "markdown",
   "metadata": {},
   "source": [
    "## Overview"
   ]
  },
  {
   "cell_type": "markdown",
   "metadata": {},
   "source": [
    "Read the project description, and detailed instructions for this assignment, in the 'A4_ProjectOutlineAndProposal' pdf."
   ]
  },
  {
   "cell_type": "markdown",
   "metadata": {},
   "source": [
    "## Group Members: Fill in the Student ID's of each group member here\n",
    "- A12756764      (  Tejas Gopal  )\n",
    "- A12800416      (  Hunter Lai   )\n",
    "- A12282018      ( Vivek Koppuru )\n",
    "- A92156448      (  Ya-han Chen  )\n",
    "- A12867539      (  David Liau   )"
   ]
  },
  {
   "cell_type": "markdown",
   "metadata": {},
   "source": [
    "### Research Question\n",
    "\n",
    "What is your research question? (1-2 sentences)"
   ]
  },
  {
   "cell_type": "markdown",
   "metadata": {},
   "source": [
    "Alternative energy is one of the biggest areas where people are looking to improve in order to build a more sustainable world. While researching, we came across new technology that uses piezoelectric crystals in order to turn vibrations on the roads by cars into electricity, which lead us to think about its potential. \n",
    "\n",
    "Research Question: What are the optimal locations in the city that will generate the most amount of energy to offset the costs of the technology and bring alternative energy to the city? Can we predict information about a road, such as potential amounts of energy, cost of implementation, number of lanes, length of street, and expected profit that can be generated given a particular street?"
   ]
  },
  {
   "cell_type": "markdown",
   "metadata": {},
   "source": [
    "### Hypothesis\n",
    "\n",
    "What is your prediction (2-3 sentences)"
   ]
  },
  {
   "cell_type": "markdown",
   "metadata": {},
   "source": [
    "We believe the optimal locations to place the piezoelectric crystals will be in areas of high traffic volume, specifically in dense intersections as opposed to entire lengths of roads. We believe we can predict information about a specific road by comparing its characteristics (length, number of lanes, traffic volume) to the optimal locations we find."
   ]
  },
  {
   "cell_type": "markdown",
   "metadata": {},
   "source": [
    "### Dataset(s)\n",
    "\n",
    "What data will you use to answer your question? Describe the dataset in terms of number of observations, what kind of features it contains, etc. You must use at least one dataset containing at least approximately 1000 observations (if your data are smaller but you feel they are sufficient, email Prof. Voytek). You are welcome (and in fact recommended) to find multiple datasets! If you do so, describe each one, and briefly explain how you will combine them together. "
   ]
  },
  {
   "cell_type": "markdown",
   "metadata": {},
   "source": [
    "Dataset #1: \t\n",
    "- Dataset Name: “Traffic Volumes”, City of San Diego\n",
    "- Link to the dataset: https://data.sandiego.gov/datasets/traffic-volumes/\n",
    "- Number of Observations: 12910\n",
    "\n",
    "Description: This data set presents all traffic volumes within the city of San Diego, in the form of Average Daily Traffic Counts. It covers all counts recorded for the last 12 years.\n",
    "\n",
    "Dataset #2:     \n",
    "- Dataset Name: “Average Daily Traffic”, City of San Diego\n",
    "- Link to the dataset: http://www.sandag.org/resources/demographics_and_other_data/transportation/adtv/sandiego_adt.pdf\n",
    "- Number of Observations: 2327\n",
    "\n",
    "Description: Contains average traffic volumes in all four compass directions over a four year period (2009-2013).\n",
    "\n",
    "Joining the Datasets: Using consolidated data from all three sources, we will average the data over all sources and time periods. We plan to construct a dictionary mapping of road/junction/highway --> total traffic volumes, to give us a comprehensive view of traffic volumes across San Diego county."
   ]
  },
  {
   "cell_type": "markdown",
   "metadata": {},
   "source": [
    "### Background & Prior Work\n",
    "\n",
    "Why is this question of interest, what background information led you to your hypothesis, and why is this important?\n",
    "\n",
    "Find some relevant prior work, and reference them. Even if you think you have a totally novel question, find the most similar prior work you can, and discuss how it relates to your project. \n",
    "\n",
    "References can be research publications, but they need not be: blogs, github repositories, company websites, etc., are viable references if they are relevant to your project.\n",
    "\n",
    "(2-3 paragraphs, including at least 2 references)"
   ]
  },
  {
   "cell_type": "markdown",
   "metadata": {},
   "source": [
    "Finding sources of alternative energy is incredibly important as fossil fuel supplies dwindle. Piezoelectric devices can be used for “harvesting the vibrational energy of roads and walkways due to traffic, can produce electrical energy that is predictable (based on traffic patterns), and locally storable” (Stanford).  Our intention in using the datasets listed above is to locate the streets with the highest traffic volume, as this information can be used to help determine what areas of road are going to be the most valuable energy collecting locations.   \n",
    "\n",
    "To put this into context, as part of a pilot program approved by the California Energy Commission (CEC), several California highways will be covered in piezoelectric crystals that will turn vibrations into electricity.  This technology can capture a portion of the energy resulting from the friction between the car and the road.  The materials needed to cover a kilometer of a two-lane street will cost approximately 405,253 dollars, so we intend to find the areas which are most heavily traveled, and calculate the efficiency of implementing this onto that area (Stanford).  The Stanford study also reveals that each car traveling on this 1-km strip will generate .19 MJ which will save 0.0064 cents, saving about one twentieth of the cost of gasoline on this strip (estimated 0.124 cents).  The street used in this study was projected to generate a revenue of 33,565 dollars a year, meaning it would take 12 years to offset the original cost of implementation.  In addition, other studies estimate that the energy generated from a 10 mile stretch of four-lane roadway can power the entire city of Burbank, which has a population numbering 105,000 people (ZME Science). A case study in Israel revealed that a one kilometer stretch of a single and four lane road integrated with piezoelectricity generated 200 KWh for the single lane and one MWh on four lanes (Charif & Kour).  Using these pieces of information, we can calculate whether or not such a project would be profitable.  \n",
    "\n",
    "We are specifically using San Diego’s datasets because California is the car capital of the world; therefore, with this greater volume of cars, we are more likely to find areas where the energy generated by all the cars will offset the costs.  Our hypothesis states our prediction that there are areas in San Diego where these piezoelectric energy generators would be efficient, largely due to the high traffic volume.  Other factors which may affect piezoelectric road efficiency are vehicle speed and vehicle weight, which is something we will want to keep in mind as we are studying data from both surface streets and highways.  Implementation also needs to be considered as past implementations of these crystals have laid out long stretches (> 1km) of the piezoelectric generators, which may be more difficult to implement on surface streets.  In summary, two of the main pieces of information that we can use in our project are that 1 car traveling over a 1-km strip will generate the energy equivalent to 0.0064 cents and the cost of implementing this 1-km strip will be 405,253 dollars.  Traffic data can then be used to estimate which areas will be most profitable, and just how profitable they will be.\n",
    "\n",
    "References (include a link):\n",
    "- 1) Garland, Rex. \"Piezoelectric Roads in California.\" Piezoelectric Roads in California. N.p., 26 Apr. 2013. Web. 19 May 2017.\n",
    "Link:       http://large.stanford.edu/courses/2012/ph240/garland1/ \n",
    "- 2) Kour, Ravjeet and Ahmad Charif. “Piezoelectric Roads: Energy Harvesting Method Using Piezoelectric Technology.” OMICS International. OMICS International, 04 June 2016. Web. 19 May 2017.\n",
    "Link:       https://www.omicsonline.com/open-access/piezoelectric-roads-energy-harvesting-method-using-piezoelectrictechnology-ier-1000132.php?aid=73891\n",
    "- 3) Puiu, Tibi. \"California's Highways Will Generate Electricity from Cars Driving over Them.\" ZME Science. ZME Science, 15 Aug. 2016. Web. 19 May 2017.\n",
    "Link:       http://www.zmescience.com/ecology/renewable-energy-ecology/california-highway-electricity/"
   ]
  },
  {
   "cell_type": "markdown",
   "metadata": {},
   "source": [
    "### Proposed Methods\n",
    "\n",
    "What methods will you use to analyze your data?\n",
    "\n",
    "- How 'clean' is the data? To the extent that it requires cleaning, how will you do so?\n",
    "- How will you analyze the data? Be as specific as you can. Briefly mention any pre-processing steps that are required for your methods (for example, checking data distributions and performing any transformations that may be required). Include a brief outline of how you will apply your chosen method(s). \n",
    "- What do you plan to report? Briefly mention any key visualizations you plan to create, and/or the kind of result you will be able to report that addresses your question (this could be, for example, the outcome of some statistical test(s), prediction error on a model, a model fit parameter, etc.).\n",
    "- Include a list of packages you expect to use for you project. If you plan to use packages we have not used in class, add a very brief description about them (a few words is sufficient). "
   ]
  },
  {
   "cell_type": "markdown",
   "metadata": {},
   "source": [
    "*Fill in your proposed methods information here:*\n",
    "\n",
    "*Data Cleaning (2-3 sentences)*\n",
    "### Dataset #1:\n",
    "- Data Cleaning will need to be done on file type format, some missing values of date of observation. Multiple observations for multiple streets, so need to average over all observations to avoid overstating traffic volumes. (Python Dict will do the job!)\n",
    "\n",
    "### Dataset #2: \n",
    "- Will need to drop some columns from the data frame (processed data time, remote id, document id). Data cleaning necessary to remove page title row (there are 69 of these headers that have their own rows with no data).\n",
    "\n",
    "*Data Analysis (1-2 paragraphs)*\n",
    "\n",
    "### Data Analysis\n",
    "\n",
    "Our data analysis will focus around determining optimality using all three datasets and two different approaches. The first approach we take is to obtain a list of the top 10 road segments (intersections) by traffic volume, and manually look at the lengths of roads and number of lanes in those segments (using Google Maps). Then, based on the papers that we cited previously, we will estimate energy generated, cost of implementing the crystals on these segments, and expected profit.\n",
    "\n",
    "The next approach is to cluster all locations (entire roads this time) into 5 groups, using a K-Means analysis. This way, we can identify what \"type\" of road a specific location is (avenue, blvd, local street, etc.). We can guess what type of road a location is based on what cluster it belongs to. Then, we find the means of these clusters, and find the locations within these clusters that are closest to the mean traffic volume. Using Google maps and our equations from the papers, we again find number of lanes, length, traffic volume, energy generated, cost of implementing crystals, and expected profit. Now, we construct a dictionary containing cluster index mapped to a list of locations within each cluster. Using this dictionary and a function taking a street_name, we then find which cluster a particular street belongs to and report information about its optimality / predictions about its characteristics.\n",
    "\n",
    "Finally, we construct profit models using our cluster analysis. We create a function to plot a linear model relating profit generated over x number of years. Then, given any street name, we can (roughly) see the expected profit from implementing the sensors on that road (not taking into account some important factors, discussed in pitfalls).\n",
    "\n",
    "*What to report (2-3 sentences)*\n",
    "\n",
    "### What to report:\n",
    "From the data that we gather and the outcomes that we analyze, our team plans to report the following: \n",
    "- A list of the top 10 optimal road segments (based on intersection data, highest traffic volume) to place piezoelectric sensors, and report energy generated, cost of implementation, and savings in dollars. \n",
    "- A cluster dictionary that allows us to make predictions about the implementation of a sensor on this particular road, reporting energy generated, cost of implementation, savings in $, and even length of road and number of lanes. \n",
    "- A profit model relating number of years to expected revenue generated, for any road given (will make use of our cluster analysis).\n",
    "- Visualizations (histograms) of the distribution of traffic volumes (traffic volumes vs frequency of those volumes) for all three of our datasets.\n",
    "- A K-Means Cluster Visualization, which color codes each of the groups.\n",
    "\n",
    "Packages we plan to use:\n",
    "- numpy\n",
    "- pandas\n",
    "- matplotlib.pyplot\n",
    "- sklearn.cluster"
   ]
  },
  {
   "cell_type": "markdown",
   "metadata": {},
   "source": [
    "### Discussion\n",
    "\n",
    "What are the pitfalls and potential confounds of your data and/or methods? For example, how might biases in your data sources or analyses influence your interpretations? What will you do if you methods don't work and/or your hypotheses are wrong?\n",
    "\n",
    "(2-3 paragraphs)"
   ]
  },
  {
   "cell_type": "markdown",
   "metadata": {},
   "source": [
    "We have several possible pitfalls for our data. The largest problem comes from the fact that we are dependent on an algorithm to create our second dictionary, the intersection data set. Our project considers both entire lengths of roads and individual intersection segments. Our list of optimal locations will be heavily based on the top 10 intersection segments (in terms of traffic volume). In addition, our clustering analysis may not be entirely accurate, since there are only 5 predictions possible (due to 5 clusters). \n",
    "\n",
    "In addition, possible faults with data collection or the actual piezoelectric roads may interfere with our project. For example, broken stoplights, sporadic days with high population, or periods where the sensors malfunction all cause potential complications and biases within the data. Lastly, several problems may affect our conclusions; specifically, we only have approximations of the piezoelectric road costs, and analyzing particular segments of roads is difficult.\n",
    "\n",
    "Now speaking to our profit models specifically, these do not take into consideration additional annual costs for infrastructure, the economic resource (i.e., labor and time) costs, and wear and tear or maintenance of the devices on the roads.\n",
    "\n",
    "In the case that our methods don’t work, we will do our best to simply report any correlations that are found between traffic volumes, energy production, and funding saved using the sensors, as well as a list of optimal locations to place our sensors. Furthermore, we will report all traffic flow volumes sorted by density and energy costs per square foot. Finally, we will construct profit models and a cluster results dictionary to make predictions about the benefits of implementing a piezoelectric sensor on a particular road in San Diego.  \n"
   ]
  }
 ],
 "metadata": {
  "kernelspec": {
   "display_name": "Python 3",
   "language": "python",
   "name": "python3"
  },
  "language_info": {
   "codemirror_mode": {
    "name": "ipython",
    "version": 3
   },
   "file_extension": ".py",
   "mimetype": "text/x-python",
   "name": "python",
   "nbconvert_exporter": "python",
   "pygments_lexer": "ipython3",
   "version": "3.6.0"
  }
 },
 "nbformat": 4,
 "nbformat_minor": 2
}
