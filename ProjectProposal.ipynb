{
 "cells": [
  {
   "cell_type": "markdown",
   "metadata": {},
   "source": [
    "# COGS 108 - Assignment 4: Project Proposal"
   ]
  },
  {
   "cell_type": "markdown",
   "metadata": {},
   "source": [
    "## Important\n",
    "\n",
    "- Make sure all group member (3-5 people) are listed in the group members section.\n",
    "- ONE, and only one, member of your group should upload this notebook to TritonED. \n",
    "- Each member of the group will receive the same grade on this assignment. \n",
    "- Keep the file name the same: submit the file 'A4_ProjectProposal.ipynb'"
   ]
  },
  {
   "cell_type": "markdown",
   "metadata": {},
   "source": [
    "## Overview"
   ]
  },
  {
   "cell_type": "markdown",
   "metadata": {},
   "source": [
    "Read the project description, and detailed instructions for this assignment, in the 'A4_ProjectOutlineAndProposal' pdf."
   ]
  },
  {
   "cell_type": "markdown",
   "metadata": {},
   "source": [
    "## Group Members: Fill in the Student ID's of each group member here\n",
    "- A12756764      (  Tejas Gopal  )\n",
    "- A12800416      (  Hunter Lai   )\n",
    "- A12282018      ( Vivek Koppuru )\n",
    "- A92156448      (  Ya-han Chen  )\n",
    "- A12867539      (  David Liau   )"
   ]
  },
  {
   "cell_type": "markdown",
   "metadata": {},
   "source": [
    "### Research Question\n",
    "\n",
    "What is your research question? (1-2 sentences)"
   ]
  },
  {
   "cell_type": "markdown",
   "metadata": {},
   "source": [
    "Alternative energy is one of the biggest areas where people are looking to improve in order to build a more sustainable world. While researching, we came across new technology that uses piezoelectric crystals in order to turn vibrations on the roads by cars into electricity, which lead us to think about its potential. \n",
    "\n",
    "Question: What are the optimal locations in the city that will generate the most amount of energy to offset the costs of the technology, bring alternative energy to the city, and reduce the city’s carbon footprint?"
   ]
  },
  {
   "cell_type": "markdown",
   "metadata": {},
   "source": [
    "### Hypothesis\n",
    "\n",
    "What is your prediction (2-3 sentences)"
   ]
  },
  {
   "cell_type": "markdown",
   "metadata": {},
   "source": [
    "Based on research about this new technology, we believe that the electricity gained from these high traffic roads can offset the costs of implementing this technology and some of the current costs that the city spends for electricity, decreasing the carbon footprint for the city overall. We think that the use of this technology will help the city of San Diego use the savings to invest in other civic and social initiatives and help promote San Diego towards becoming a leader in technological advancements and the fight against global warming. Therefore, the costs of adding this technology in high volume roads will prove to be an overall benefit economically and environmentally. "
   ]
  },
  {
   "cell_type": "markdown",
   "metadata": {},
   "source": [
    "### Dataset(s)\n",
    "\n",
    "What data will you use to answer your question? Describe the dataset in terms of number of observations, what kind of features it contains, etc. You must use at least one dataset containing at least approximately 1000 observations (if your data are smaller but you feel they are sufficient, email Prof. Voytek). You are welcome (and in fact recommended) to find multiple datasets! If you do so, describe each one, and briefly explain how you will combine them together. "
   ]
  },
  {
   "cell_type": "markdown",
   "metadata": {},
   "source": [
    "Dataset #1: \t\n",
    "- Dataset Name: “Traffic Volumes”, City of San Diego\n",
    "- Link to the dataset: https://data.sandiego.gov/datasets/traffic-volumes/\n",
    "- Number of Observations: 12910\n",
    "\n",
    "Description: This data set presents all traffic volumes within the city of San Diego, in the form of Average Daily Traffic Counts. It covers all counts recorded for the last 12 years.\n",
    "\n",
    "Dataset #2:     \n",
    "- Dataset Name: “Average Daily Traffic”, City of San Diego\n",
    "- Link to the dataset: http://www.sandag.org/resources/demographics_and_other_data/transportation/adtv/sandiego_adt.pdf\n",
    "- Number of Observations: 2327\n",
    "\n",
    "Description: Contains average traffic volumes in all four compass directions over a four year period (2009-2013).\n",
    "\n",
    "Dataset #3:\n",
    "- Dataset Name: “Caltrans Traffic Volumes, 2014”\n",
    "- Link to the dataset: https://data.ca.gov/dataset/caltrans-traffic-volumes\n",
    "- Number of Observations: 6958\n",
    "\n",
    "Description: This dataset is more broad, it covers all highways, roads, counties, etc. within the whole state of California. For this dataset, we are more interested in highway data within and around San Diego county.\n",
    "\n",
    "Joining the Datasets: Using consolidated data from all three sources, we will average the data over all sources and time periods. We plan to construct a dictionary mapping of road/junction/highway --> total traffic volumes, to give us a comprehensive view of traffic volumes across San Diego county."
   ]
  },
  {
   "cell_type": "markdown",
   "metadata": {},
   "source": [
    "### Background & Prior Work\n",
    "\n",
    "Why is this question of interest, what background information led you to your hypothesis, and why is this important?\n",
    "\n",
    "Find some relevant prior work, and reference them. Even if you think you have a totally novel question, find the most similar prior work you can, and discuss how it relates to your project. \n",
    "\n",
    "References can be research publications, but they need not be: blogs, github repositories, company websites, etc., are viable references if they are relevant to your project.\n",
    "\n",
    "(2-3 paragraphs, including at least 2 references)"
   ]
  },
  {
   "cell_type": "markdown",
   "metadata": {},
   "source": [
    "    Finding sources of alternative energy is incredibly important as fossil fuel supplies dwindle. Piezoelectric devices can be used for “harvesting the vibrational energy of roads and walkways due to traffic, can produce electrical energy that is predictable (based on traffic patterns), and locally storable” (Stanford).  Our intention in using the datasets listed above is to locate the streets with the highest traffic volume, as this information can be used to help determine what areas of road are going to be the most valuable energy collecting locations.   \n",
    "    To put this into context, as part of a pilot program approved by the California Energy Commission (CEC), several California highways will be covered in piezoelectric crystals that will turn vibrations into electricity.  This technology can capture a portion of the energy resulting from the friction between the car and the road.  The materials needed to cover a kilometer of a two-lane street will cost approximately $405,253, so we intend to find the areas which are most heavily traveled, and calculate the efficiency of implementing this onto that area (Stanford).  The Stanford study also reveals that each car traveling on this 1-km strip will generate .19 MJ which will save $0.0064, saving about one twentieth of the cost of gasoline on this strip (estimated $0.124).  The street used in this study was projected to generate a revenue of $33,565 a year, meaning it would take 12 years to offset the original cost of implementation.  In addition, other studies estimate that the energy generated from a 10 mile stretch of four-lane roadway can power the entire city of Burbank, which has a population numbering 105,000 people (ZME Science). A case study in Israel revealed that a one kilometer stretch of a single and four lane road integrated with piezoelectricity generated 200 KWh for the single lane and one MWh on four lanes (Charif & Kour).  Using these pieces of information, we can calculate whether or not such a project would be profitable.  \n",
    "    We are specifically using San Diego’s datasets because California is the car capital of the world; therefore, with this greater volume of cars, we are more likely to find areas where the energy generated by all the cars will offset the costs.  Our hypothesis states our prediction that there are areas in San Diego where these piezoelectric energy generators would be efficient, largely due to the high traffic volume.  Other factors which may affect piezoelectric road efficiency are vehicle speed and vehicle weight, which is something we will want to keep in mind as we are studying data from both surface streets and highways.  Implementation also needs to be considered as past implementations of these crystals have laid out long stretches (> 1km) of the piezoelectric generators, which may be more difficult to implement on surface streets.  In summary, two of the main pieces of information that we can use in our project are that 1 car traveling over a 1-km strip will generate the energy equivalent to $0.0064 and the cost of implementing this 1-km strip will be $405,253.  Traffic data can then be used to estimate which areas will be most profitable, and just how profitable they will be.\n",
    "\n",
    "References (include a link):\n",
    "- 1) Garland, Rex. \"Piezoelectric Roads in California.\" Piezoelectric Roads in California. N.p., 26 Apr. 2013. Web. 19 May 2017.\n",
    "Link:       http://large.stanford.edu/courses/2012/ph240/garland1/ \n",
    "- 2) Kour, Ravjeet and Ahmad Charif. “Piezoelectric Roads: Energy Harvesting Method Using Piezoelectric Technology.” OMICS International. OMICS International, 04 June 2016. Web. 19 May 2017.\n",
    "Link:       https://www.omicsonline.com/open-access/piezoelectric-roads-energy-harvesting-method-using-piezoelectrictechnology-ier-1000132.php?aid=73891\n",
    "- 3) Puiu, Tibi. \"California's Highways Will Generate Electricity from Cars Driving over Them.\" ZME Science. ZME Science, 15 Aug. 2016. Web. 19 May 2017.\n",
    "Link:       http://www.zmescience.com/ecology/renewable-energy-ecology/california-highway-electricity/"
   ]
  },
  {
   "cell_type": "markdown",
   "metadata": {},
   "source": [
    "### Proposed Methods\n",
    "\n",
    "What methods will you use to analyze your data?\n",
    "\n",
    "- How 'clean' is the data? To the extent that it requires cleaning, how will you do so?\n",
    "- How will you analyze the data? Be as specific as you can. Briefly mention any pre-processing steps that are required for your methods (for example, checking data distributions and performing any transformations that may be required). Include a brief outline of how you will apply your chosen method(s). \n",
    "- What do you plan to report? Briefly mention any key visualizations you plan to create, and/or the kind of result you will be able to report that addresses your question (this could be, for example, the outcome of some statistical test(s), prediction error on a model, a model fit parameter, etc.).\n",
    "- Include a list of packages you expect to use for you project. If you plan to use packages we have not used in class, add a very brief description about them (a few words is sufficient). "
   ]
  },
  {
   "cell_type": "markdown",
   "metadata": {},
   "source": [
    "*Fill in your proposed methods information here:*\n",
    "\n",
    "*Data Cleaning (2-3 sentences)*\n",
    "\n",
    "- Dataset #1: Data Cleaning will need to be done on file type format, some missing values of date of observation. Multiple observations for multiple streets, so need to average over all observations to avoid overstating traffic volumes. (Python Dict will do the job!)\n",
    "- Dataset #2: Will need to drop some columns from the data frame (processed data time, remote id, document id). Data cleaning necessary to remove page title row (there are 69 of these headers that have their own rows with no data).\n",
    "- Dataset #3: Contains data from all counties in California, so will need to filter by San Diego data. Some unnecessary columns that need to be dropped (premile and postmile prefix).\n",
    "\n",
    "*Data Analysis (1-2 paragraphs)*\n",
    "\n",
    "    After cleaning the data, our group will create a Python dictionary which maps each street in the San Diego county to the total traffic volume on that street. The dictionary treats each street as an individual road; for example, if a road has an intersection, it would be counted as two individual streets. Then, we’ll create another dictionary that maps intersections pairs to the total traffic volume through that intersection only. Then, using our two constructed dictionaries, we will sort the roads/intersections by total traffic volume to determine the optimal locations to place our piezoelectric sensors. After gathering a list of optimal sensor placement, we can take the average speed on roads and the average weight of a vehicle to determine the energy that will be generated from our sensors (accounting for error).\n",
    "    Another dictionary that we will create contains traffic information of highways with direction and segment data. From a previous study, we know that when a vehicle moves slowly, it actually generates slightly more energy than when it is moving quickly. Therefore, we will focus more on local streets -- not highways -- for realistic reasons, such as the fact that it’s harder to detour on highways and higher speed doesn’t generate more energy. The same analysis (sorting, avg speed / avg weight) will apply to highway data.\n",
    "    Lastly, we will create scatterplots based off of the Pearson correlation between traffic volume and the energy generated. This will allow us to visualize the data and present our findings in visual form. Visualization will also allow us to perform any transformations to the plots to find a functional relationship between data fields.\n",
    "\n",
    "*What to report (2-3 sentences)*\n",
    "\n",
    "    From the data that we gather and the outcomes that we analyze, our team plans to report the following: \n",
    "        1)  A list of each optimal location to place our sensors, which would provide accurate readings that allow the \n",
    "            streets to be adjusted as necessary. \n",
    "        2)  An equation of the relationship between energy generated and vehicle traffic, to properly map the cost-\n",
    "            benefit result of these piezoelectric roads. \n",
    "        3)  The overall cost of inserting these sensors. \n",
    "       \n",
    "    Each of those correlations will be visualized through either \n",
    "    a statistical model, or a graph that outlines the correlation between energy and traffic; we may even \n",
    "    provide a small diagram that illustrates the placements of each sensor on the street. Lastly, these data \n",
    "    points can help us figure out the big picture - showing the amount of reduction in San Diego’s carbon \n",
    "    footprint and its eventual energy cost-savings over the next few years.\n",
    "\n",
    "Packages we plan to use:\n",
    "- numpy\n",
    "- pandas\n",
    "- matplotlib.pyplot\n"
   ]
  },
  {
   "cell_type": "markdown",
   "metadata": {},
   "source": [
    "### Discussion\n",
    "\n",
    "What are the pitfalls and potential confounds of your data and/or methods? For example, how might biases in your data sources or analyses influence your interpretations? What will you do if you methods don't work and/or your hypotheses are wrong?\n",
    "\n",
    "(2-3 paragraphs)"
   ]
  },
  {
   "cell_type": "markdown",
   "metadata": {},
   "source": [
    "    We have several possible pitfalls for our data. The largest problem comes from the fact that we are dependent on an algorithm to create our second dictionary, the intersection data set. Our project aims to construct this dictionary based on an algorithm that abstracts roads into graphs and computes traffic volumes within these smaller segments. However, if the algorithm that we’re using does not successfully compile our data, we will be less confident in the optimality of the placement of our sensors (not considering the intersections).\n",
    "\tIn addition, possible faults with data collection or the actual piezoelectric roads may interfere with our project. For example, broken stoplights, sporadic days with high population, or periods where the sensors malfunction all cause potential complications and biases within the data. Lastly, several problems may affect our conclusions; specifically, we only have approximations of the piezoelectric road costs, and analyzing particular segments of roads is difficult.\n",
    "\tIn the case that our methods don’t work, we will do our best to simply report any correlations that are found between traffic volumes, energy production, and funding saved using the sensors, as well as a list of optimal locations to place our sensors. Lastly, we will report all traffic flow volumes sorted by density and energy costs per square foot.\n"
   ]
  }
 ],
 "metadata": {
  "kernelspec": {
   "display_name": "Python 3",
   "language": "python",
   "name": "python3"
  },
  "language_info": {
   "codemirror_mode": {
    "name": "ipython",
    "version": 3
   },
   "file_extension": ".py",
   "mimetype": "text/x-python",
   "name": "python",
   "nbconvert_exporter": "python",
   "pygments_lexer": "ipython3",
   "version": "3.6.0"
  }
 },
 "nbformat": 4,
 "nbformat_minor": 2
}
