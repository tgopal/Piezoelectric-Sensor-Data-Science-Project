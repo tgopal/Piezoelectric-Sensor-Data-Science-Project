{
 "cells": [
  {
   "cell_type": "code",
   "execution_count": 1,
   "metadata": {
    "collapsed": true
   },
   "outputs": [],
   "source": [
    "# Imports !\n",
    "\n",
    "%matplotlib inline\n",
    "\n",
    "import pandas as pd\n",
    "import numpy as np\n",
    "import matplotlib.pyplot as plt\n",
    "import patsy\n",
    "import statsmodels.api as sm\n",
    "import scipy.stats as stats\n",
    "import pylab as pl\n",
    "from sklearn.cluster import KMeans\n",
    "from scipy.cluster.vq import whiten"
   ]
  },
  {
   "cell_type": "code",
   "execution_count": 2,
   "metadata": {
    "collapsed": false
   },
   "outputs": [],
   "source": [
    "# Gather data into dataframes\n",
    "\n",
    "traffic_main_df = pd.read_csv('traffic_counts_datasd.csv')\n",
    "intersections_df = pd.read_csv('Intersections.csv')\n",
    "caltrans_df = pd.read_csv('Caltrans.csv')"
   ]
  },
  {
   "cell_type": "code",
   "execution_count": 3,
   "metadata": {
    "collapsed": false
   },
   "outputs": [],
   "source": [
    "# Perform data cleaning on the dataframes\n",
    "\n",
    "# Remove directional columns from traffic_counts\n",
    "traffic_main_df.drop('id', 1, inplace=True)\n",
    "traffic_main_df.drop('northbound_count', 1, inplace=True)\n",
    "traffic_main_df.drop('southbound_count', 1, inplace=True)\n",
    "traffic_main_df.drop('all_count', 1, inplace=True)\n",
    "traffic_main_df.drop('eastbound_count', 1, inplace=True)\n",
    "traffic_main_df.drop('westbound_count', 1, inplace=True)\n",
    "traffic_main_df.drop('file_no', 1, inplace=True)\n",
    "traffic_main_df.drop('count_date', 1, inplace=True)\n",
    "\n",
    "#Drop any rows with NaN values in traffic_main counts\n",
    "traffic_main_df.dropna(inplace=True) "
   ]
  },
  {
   "cell_type": "code",
   "execution_count": 4,
   "metadata": {
    "collapsed": false
   },
   "outputs": [
    {
     "data": {
      "text/html": [
       "<div>\n",
       "<table border=\"1\" class=\"dataframe\">\n",
       "  <thead>\n",
       "    <tr style=\"text-align: right;\">\n",
       "      <th></th>\n",
       "      <th>Primary Street</th>\n",
       "      <th>1st Cross Street</th>\n",
       "      <th>2nd Cross Street</th>\n",
       "      <th>2009</th>\n",
       "      <th>2010</th>\n",
       "      <th>2011</th>\n",
       "      <th>2012</th>\n",
       "      <th>2013</th>\n",
       "      <th>Average AADT</th>\n",
       "    </tr>\n",
       "  </thead>\n",
       "  <tbody>\n",
       "    <tr>\n",
       "      <th>0</th>\n",
       "      <td>A ST</td>\n",
       "      <td>KETTNER BLVD</td>\n",
       "      <td>INDIA ST</td>\n",
       "      <td>5100</td>\n",
       "      <td>6100</td>\n",
       "      <td>6100</td>\n",
       "      <td>6100</td>\n",
       "      <td>6100</td>\n",
       "      <td>5900</td>\n",
       "    </tr>\n",
       "    <tr>\n",
       "      <th>1</th>\n",
       "      <td>A ST</td>\n",
       "      <td>INDIA ST</td>\n",
       "      <td>COLUMBIA ST</td>\n",
       "      <td>7900</td>\n",
       "      <td>6800</td>\n",
       "      <td>6800</td>\n",
       "      <td>6800</td>\n",
       "      <td>6800</td>\n",
       "      <td>7020</td>\n",
       "    </tr>\n",
       "    <tr>\n",
       "      <th>2</th>\n",
       "      <td>A ST</td>\n",
       "      <td>COLUMBIA ST</td>\n",
       "      <td>FRONT ST</td>\n",
       "      <td>8700</td>\n",
       "      <td>10100</td>\n",
       "      <td>10100</td>\n",
       "      <td>10100</td>\n",
       "      <td>8800</td>\n",
       "      <td>9560</td>\n",
       "    </tr>\n",
       "    <tr>\n",
       "      <th>3</th>\n",
       "      <td>A ST</td>\n",
       "      <td>FRONT ST</td>\n",
       "      <td>1ST AVE</td>\n",
       "      <td>12600</td>\n",
       "      <td>12000</td>\n",
       "      <td>9300</td>\n",
       "      <td>9300</td>\n",
       "      <td>11400</td>\n",
       "      <td>10920</td>\n",
       "    </tr>\n",
       "    <tr>\n",
       "      <th>4</th>\n",
       "      <td>A ST</td>\n",
       "      <td>1ST AVE</td>\n",
       "      <td>4TH AVE</td>\n",
       "      <td>11500</td>\n",
       "      <td>10800</td>\n",
       "      <td>10800</td>\n",
       "      <td>10800</td>\n",
       "      <td>10800</td>\n",
       "      <td>10940</td>\n",
       "    </tr>\n",
       "  </tbody>\n",
       "</table>\n",
       "</div>"
      ],
      "text/plain": [
       "  Primary Street 1st Cross Street 2nd Cross Street   2009   2010   2011  \\\n",
       "0           A ST     KETTNER BLVD         INDIA ST   5100   6100   6100   \n",
       "1           A ST         INDIA ST      COLUMBIA ST   7900   6800   6800   \n",
       "2           A ST      COLUMBIA ST         FRONT ST   8700  10100  10100   \n",
       "3           A ST         FRONT ST          1ST AVE  12600  12000   9300   \n",
       "4           A ST          1ST AVE          4TH AVE  11500  10800  10800   \n",
       "\n",
       "    2012   2013  Average AADT  \n",
       "0   6100   6100          5900  \n",
       "1   6800   6800          7020  \n",
       "2  10100   8800          9560  \n",
       "3   9300  11400         10920  \n",
       "4  10800  10800         10940  "
      ]
     },
     "execution_count": 4,
     "metadata": {},
     "output_type": "execute_result"
    }
   ],
   "source": [
    "# Data cleaning on intersections data\n",
    "\n",
    "intersections_df.drop('Document ID', 1, inplace=True)\n",
    "intersections_df.drop('Remote ID', 1, inplace=True)\n",
    "intersections_df.drop('Filename', 1, inplace=True)\n",
    "intersections_df.drop('Received At', 1, inplace=True)\n",
    "intersections_df.drop('Processed At', 1, inplace=True)\n",
    "\n",
    "# Drop any rows with NaN values in traffic_main counts\n",
    "intersections_df.dropna(inplace=True)\n",
    "\n",
    "# Clean out new page headers (extracted from PDF)\n",
    "intersections_df = intersections_df[intersections_df['1st Cross Street'] != '1st Cross Street']\n",
    "\n",
    "# Clean the traffic count values (get rid of tail symbols e.g. 'N', 'S', etc.)\n",
    "for index, row in intersections_df.iterrows():\n",
    "    row['2009'] = row['2009'].split()[0]\n",
    "    row['2010'] = row['2010'].split()[0]\n",
    "    row['2011'] = row['2011'].split()[0]\n",
    "    row['2012'] = row['2012'].split()[0]\n",
    "    row['2013'] = row['2013'].split()[0]\n",
    "\n",
    "# Taking the average traffic of all the years (2009 - 2013) and storing it in a column called \"Average AADT\"\n",
    "intersections_df['Average AADT'] = 0\n",
    "for i, row in intersections_df.iterrows():\n",
    "    avg = int((int(row['2009']) + int(row['2010']) + int(row['2011']) \n",
    "                                                    + int(row['2012']) + int(row['2013']))) / 5\n",
    "    intersections_df.set_value(i, 'Average AADT', avg) \n",
    "\n",
    "intersections_df.head()"
   ]
  },
  {
   "cell_type": "code",
   "execution_count": 5,
   "metadata": {
    "collapsed": false
   },
   "outputs": [],
   "source": [
    "# Data cleaning on caltrans dataframe\n",
    "\n",
    "caltrans_df.drop('Caltrans District ID Number', 1, inplace=True)\n",
    "caltrans_df.drop('Route Suffix', 1, inplace=True)\n",
    "caltrans_df.drop('Postmile Prefix', 1, inplace=True)\n",
    "caltrans_df.drop('Postmile Number', 1, inplace=True)\n",
    "caltrans_df.drop('Postmile Suffix', 1, inplace=True)\n",
    "caltrans_df.drop('South or Westbound Peak Hour', 1, inplace=True)\n",
    "caltrans_df.drop('South or Westbound Peak Month', 1, inplace=True)\n",
    "caltrans_df.drop('North or Eastbound Peak Hour', 1, inplace=True)\n",
    "caltrans_df.drop('North or Eastbound Peak Month', 1, inplace=True)\n"
   ]
  },
  {
   "cell_type": "code",
   "execution_count": 6,
   "metadata": {
    "collapsed": false
   },
   "outputs": [],
   "source": [
    "# Retrieve only San Diego county data\n",
    "caltrans_df = caltrans_df[caltrans_df['County'] == \"San Diego\"]\n",
    "\n",
    "# fill all NaN traffic values (directional) with 0's for average computation\n",
    "caltrans_df['South or Westbound Annual Average Daily Traffic (AADT)'].fillna(0, inplace=True)\n",
    "caltrans_df['North or Eastbound Annual Average Daily Traffic (AADT)'].fillna(0, inplace=True)\n",
    "\n",
    "# append a new column with consolidated directional traffic counts (S/W + N/E)\n",
    "caltrans_df['Total Average Daily Traffic (TADT)'] = (\n",
    "    caltrans_df['South or Westbound Annual Average Daily Traffic (AADT)'] +\n",
    "    caltrans_df['North or Eastbound Annual Average Daily Traffic (AADT)'])"
   ]
  },
  {
   "cell_type": "code",
   "execution_count": 7,
   "metadata": {
    "collapsed": false
   },
   "outputs": [],
   "source": [
    "# Create a dictionary of street-range locations to total_count\n",
    "main_dict = dict()\n",
    "main_counts = dict() # keeps track of # of keys found\n",
    "\n",
    "for i, row in traffic_main_df.iterrows():\n",
    "    keytp = (row['street_name'], row['limits'])\n",
    "    # If key already exists in the dictionary, append to count and take sum of traffic values\n",
    "    if keytp in main_dict:\n",
    "        main_counts[keytp] = main_counts[keytp] + 1\n",
    "        main_dict[keytp] = (main_dict[keytp] + row['total_count'])\n",
    "    # Otherwise, initialize key to traffic value and count to 1\n",
    "    else:\n",
    "        main_counts[keytp] = 1\n",
    "        main_dict[keytp] = row['total_count']\n",
    "\n",
    "# Computing final average of all traffic values\n",
    "for key in main_dict:\n",
    "    main_dict[key] = main_dict[key] / main_counts[key]\n",
    "\n",
    "total_traffic = dict()\n",
    "for key in main_dict:\n",
    "    street = str(key[0])\n",
    "    if street in total_traffic.keys():\n",
    "        total_traffic[street] = total_traffic[street] + main_dict[key]\n",
    "    else:\n",
    "        total_traffic[street] = main_dict[key]\n",
    "\n",
    "total_traffic = {x:y for x,y in total_traffic.items() if y!=0}\n",
    "        "
   ]
  },
  {
   "cell_type": "code",
   "execution_count": 8,
   "metadata": {
    "collapsed": false
   },
   "outputs": [],
   "source": [
    "# Creating dictionary for intersection pairs\n",
    "\n",
    "inter_dict = dict()\n",
    "\n",
    "for i, row in intersections_df.iterrows():\n",
    "    key = (row['Primary Street'], row['1st Cross Street'], row['2nd Cross Street'])\n",
    "    # Initialize key to intersection value \n",
    "    inter_dict[key] = row['Average AADT']"
   ]
  },
  {
   "cell_type": "code",
   "execution_count": 9,
   "metadata": {
    "collapsed": false
   },
   "outputs": [],
   "source": [
    "# Data Visualization\n",
    "from pandas.tools.plotting import scatter_matrix\n",
    "\n"
   ]
  },
  {
   "cell_type": "code",
   "execution_count": null,
   "metadata": {
    "collapsed": false
   },
   "outputs": [],
   "source": []
  },
  {
   "cell_type": "code",
   "execution_count": null,
   "metadata": {
    "collapsed": false
   },
   "outputs": [],
   "source": []
  },
  {
   "cell_type": "code",
   "execution_count": 10,
   "metadata": {
    "collapsed": true
   },
   "outputs": [],
   "source": [
    "# Figuring out a way to hone in on the top 10 roads and manually calculating the widths/no of lanes (to )\n",
    "# Equations for cost, energy generated, reducing carbon footprint\n",
    "# cross referencing over the three ways to compute top 10\n",
    "# consider expanding across the road that we determined\n",
    "\n",
    "#         multiply all values by traffic volume\n",
    "# cost depends on (number of lanes, how long the segment is) each ($202,626 per lane, 1 km strip) ($326,095 per lane for 1 mi)\n",
    "# energy generated depends on (worst case, 20 mpg car generates 0.19 MJ by travelling 1 km strip) saving (0.305776 MJ per 1 mi)\n",
    "    # How much is 1 MJ in San Diego county = 21.1 cents per kilowatt hour in san diego (277.78 W. h converts to 1 MJ)\n",
    "# carbon footprint emissions (percentage saved)\n",
    "\n",
    "# We want to do a linear regression analysis with traffic volumes, but need to find another parameter that is relevant\n",
    "# any ideas?\n",
    "\n",
    "# k-means: whole map: how much energy would we expect from a specific road? (k-means into 3 buckets)\n",
    "# discuss reasonable constraints: small no of very busy roads, more problematic to interfere with (best tradeoff)\n",
    "# electricity closer to downtown - the best roads there?\n",
    "# estimate number of lanes based on clusters (be clear on this part)"
   ]
  },
  {
   "cell_type": "code",
   "execution_count": 11,
   "metadata": {
    "collapsed": false
   },
   "outputs": [],
   "source": [
    "# K-means clustering to find groups of traffic volumes\n",
    "# energy generated depends on (worst case, 20 mpg car generates 0.19 MJ by travelling 1 km strip)\n",
    "# Make a new dataframe joining \n",
    "\n",
    "total_traffic\n",
    "d1 = total_traffic.keys()\n",
    "d1 = [i for i in range(len(d1))]\n",
    "d2 = total_traffic.values()\n",
    "d2 = [int(x) for x in d2]\n",
    "\n",
    "d1w = whiten(d1)\n",
    "d2w = whiten(d2)"
   ]
  },
  {
   "cell_type": "code",
   "execution_count": 12,
   "metadata": {
    "collapsed": true
   },
   "outputs": [],
   "source": [
    "data = np.vstack([d1w, d2w]).T"
   ]
  },
  {
   "cell_type": "code",
   "execution_count": 13,
   "metadata": {
    "collapsed": false
   },
   "outputs": [
    {
     "name": "stdout",
     "output_type": "stream",
     "text": [
      "0\n",
      "['01 AV', '02 AV', '03 AV', '04 AV', '04  AV', '06 EX', '07 AV', '08 AV', '09 AV', '10 AV', '11 AV', '07  AV', '16 ST', '25 ST', '26 ST', '27 ST', '28 ST', '11  AV', '14TH  ST', '30 ST', '17 ST', '19 ST', '25  ST', '32 ST', '33 ST', '35 ST', '36 ST', '38 ST', '39 ST', '40 ST', '42 ST', '43 ST', '47 ST', '32ND  ST', '35TH  ST ', '37 ST', '38  ST', '55 ST', '58 ST', '41 ST', '60 ST', '61 ST', '62 ST', '63 ST', '65 ST', '69 ST', '43RD  ST', '45 ST', '47  ST', '70 ST', 'A ST', '49 ST', '50 ST', 'ABBOTT ST', '51 ST', '52 ST', 'ABER ST', 'ACACIA ST', 'ACORN ST', 'ACTIVITY RD', 'ACWORTH AV', 'ADAMS AV', 'ADOBE FALLS RD', 'ADRIAN ST', '54TH  ST', '54TH  ST ', '56 ST', 'AFTON RD', 'AIRWAY RD', '61  ST', 'AKINS AV', '62 AV', 'ALABAMA ST', 'ALBATROSS ST', 'ALCOTT ST', 'ALDINE DR', '68 ST', 'ALLEGHANY ST', 'ALMAZON ST', 'ALSACIA ST', 'ALTA VW DR', 'ALVARADO CYN RD', 'ALVARADO RD', 'ANTIGUA BL', 'APPLETON ST', 'ARAGON DR', 'ARBOR DR', 'ABBOTT  ST', 'AREY DR', 'ARIANE DR', 'ARJONS DR', 'ARMOUR ST', 'ACENA  DR', 'ACENA DR', 'ARMSTRONG ST', 'ARNO DR', 'ARRIBA ST', 'ADAMS  AV', 'ASH ST', 'ADOLPHIA ST', 'ASHFORD ST', 'AUBURNDALE ST', 'AUTO CR', 'AVENIDA DEL RIO ', 'AV VENUSTO ', 'AIRWAY  RD ', 'AVATI DR', 'AVIARY DR', 'AZUAGA ST', 'B ST', 'ALBION ST', 'ALDINE  DR', 'ALLEGHANY ', 'BACHMAN PL', 'BACON ST', 'ALTA VIEW DR', 'ALVARADO CANYON RD', 'BALBOA ARMS DR', 'AMALFI ST', 'ANGELIQUE ST', 'AQUARIUS DR', 'ARDATH RD', 'ARMOUR  ST', 'ARRIBA  ST', 'ARRUZA ST', 'ARTESIAN RD', 'BALTIMORE DR', 'BARNES CANYON RD', 'BARNETT AV', 'BAYARD ST', 'ASHFORD  ST', 'BAYVIEW HTS DR', 'BEAGLE ST', 'ASHLEY FALLS DR', 'ATHEY AV', 'BEECH ST', 'AUTO CIRCLE ', 'BERGER AV', 'BERNARDO CENTER DR', 'AV DE LAS VISTAS ', 'AVENIDA MAGNIFICA ', 'AVENIDA PLAYA ', 'AVENIDA PLAYA  ', 'AVENIDA RIO ', 'AVENIDA VENUSTO ', 'AVENIDA VISTAS ', 'AVENUE OF SCIENCE ', 'AVERNE ST', 'BERNARDO HTS PY', 'BERYL ST', 'BEYER BL', 'BACHMAN  PL', 'BACON  ST', 'BAJA DR', 'BEYER WY', 'BAKER ST', 'BIGNELL DR', 'BALBOA  AV', 'BIRMINGHAM WY', 'BLACK MOUNTAIN (OLD) RD', 'BLUFFSIDE AV', 'BOB ST', 'BOUNDARY ST', 'BALBOA DR', 'BALTIC ST', 'BANDY CYN  RD', 'BANDY CYN RD', 'BOYD AV', 'BARNES CYN RD', 'BRIARWOOD RD', 'BRITANNIA BL', 'BATISTA ST', 'BAYVIEW HTS WY', 'BEAUMONT AV', 'BELLEVUE AV', 'BROADWAY CR', 'BROOKHAVEN RD', 'BURGENER BL', 'BUSINESSPARK AV', 'CEASAR CHAVEZ PY', 'BERNARDO OAKS DR', 'C ST', 'CABLE ST', 'CABOT DR', 'CACTUS RD', 'CAL CRISTOBAL ', 'BILLMAN ST', 'CAL PRIMERA ', 'BIRCH BLUFF AV', 'BIRD ROCK AV', 'CALIENTE AV', 'BISBY LAKE AV', 'CALLAN RD', 'BLACK MOUNTAIN  RD', 'CALUMET AV', 'BLACK MTN  RD', 'CAM ESTE ', 'CAM NORTE ', 'CAM REINA ', 'CAM RIO ', 'BLUE CYPRESS DR', 'BLUE CYPRESS RD', 'CAM RIO N ', 'BONAIR ST', 'BOOTES ST', 'BOULDER LAKE AV', 'CAM RIO S ', 'BRANDYWINE ST', 'CAM RUIZ ', 'BRANDYWOOD ST', 'BROADWAY', 'CAM SIESTA ', 'CAM STA FE ', 'CAMINO DEL SUR ', 'CAMIONES WY', 'CAMPANILE DR', 'CAMPUS PT CT', 'CAMPUS PT DR', 'CANNINGTON DR', 'CANON ST', 'BUENOS AV', 'CAPRI DR', 'CAPRICORN WY', 'CARDENO DR', 'CARDIFF ST', 'CARDINAL DR', 'CARDINAL RD', 'CARGILL AV', 'CABLE  ST', 'CARMEL COUNTRY RD', 'CARMEL CRK RD', 'CABRILLO MEMORIAL DR', 'CARMEL CTR RD', 'CARMEL CYN RD', 'CALLE CRISTOBAL ', 'CARMEL KNOLLS DR', 'CALLE ORO ', 'CALLE PLATA ', 'CALLE PRIMERA ', 'CALLE ROSAS', 'CALLE ROSAS ', 'CALLE TRES LOMAS', 'CAM DE LA REINA ', 'CAM DEL ESTE ', 'CAM DEL NORTE ', 'CAM DEL RIO S ', 'CAMINITO SANTALUZ SUR', 'CAMINO ARROYO ', 'CAMINO COSTA', 'CAMINO DEL RIO  N', 'CAMINO DEL RIO  S', 'CAMINO DEL RIO (N) ', 'CAMINO DEL RIO NORTH ', 'CAMINO ESTE', 'CAMINO NORTE ', 'CAMINO ORO ', 'CAMINO PLAZA ', 'CARMEL MOUNTAIN RD', 'CAMINO REINA ', 'CAMINO RIO ', 'CAMINO RIO N ', 'CASS ST', 'CATALINA BL', 'CAMINO RIO S', 'CAMINO RIO S ', 'CAMINO RIO W', 'CATHER ST', 'CATOCTIN DR', 'CAMINO RUIZ ', 'CEDAR ST', 'CENTRAL AV', 'CHANDLER DR', 'CAMINO SANTA FE ', 'CHARGER BL', 'CHARMANT DR', 'CHATEAU DR', 'CHATSWORTH BL', 'CAMINO SIESTA ', 'CAMINO SUR', 'CAMINO SUR ', 'CHELSEA AV', 'CHESAPEAKE DR', 'CHILDRENS WY', 'CAMPHOR LN', 'CAMPUS AV', 'CHOLLAS RD', 'CAMPUS POINT CT', 'CHURCHWARD ST', 'CAMPUS POINT DR', 'CHURRITUCK DR', 'CAMULOS ST', 'CARDINAL  DR', 'CARMEL CREEK RD', 'CLEVELAND AV', 'CARMEL GROVE RD', 'CARMEL MTN  RD', 'COL GROVE DR', 'COLE ST', 'COLIMA ST', 'CARMEL PARK  DR', 'CARMEL VALLEY RD', 'CARMEL VIEW RD', 'CARMEL VISTA RD', 'COLLURA ST', 'COLLWOOD BL', 'COLUMBIA ST', 'CARROLL CANYON  RD', 'COMMERCE AV', 'CARROLL CYN RD', 'COMMERCIAL ST', 'COMSTOCK ST', 'CARROLL RD', 'CONGRESS ST', 'CONRAD AV', 'CONVOY CT', 'CARROLL WY', 'CONVOY ST', 'CASTANA ST', 'CATALINA  BL', 'COPLEY PK PL', 'CORDOVA ST', 'CORONADO SB AV', 'COWLES MOUNTAIN BL', 'CELIA VISTA DR', 'CRANDALL DR', 'CRAWFORD ST', 'CESAR CHAVEZ PY', 'CUMBERLAND ST', 'CHARBONO ST', 'D M HTS RD', 'DAGGET ST', 'DAIRY MART RD', 'CHELSEA ST', 'DALEY CTR DR', 'CHEROKEE AV', 'DAMON AV', \"CHILDREN'S WY\", 'DATE ST', 'DATSUN ST', 'CHOLLAS PY', 'DAVID ST', 'DECORO ST', 'DEEP DELL RD', 'DEEP HAVEN LN', 'DEL CERRO BL', 'DEL MAR AV', 'DEL SOL BL', 'DELTA ST', 'DENNERY RD', 'DENVER ST', 'DERRICK DR', 'DIANE AV', 'DISTRIBUTION AV', 'DIVISION ST', 'DOLIVA DR', 'DORIANA ST', 'DOWDY DR', 'DUNAWAY DR', 'E ST', 'CLIFFRIDGE AV', 'CLOUDCREST DR', 'EASTGATE ML', 'CLOVERDALE RD', 'COAST BL', 'EBERS ST', 'COLINA DORADO DR', 'ECKSTROM AV', 'COLLEGE  AV', 'COLLEGE GROVE DR', 'COLLEGE GROVE WY', 'COLUMBIA  ST', 'EL CAM RL ', 'COMMON WEALTH AV', 'COMPASS PT (S) DR', 'CONESTOGA WY', 'CONFERENCE WY', 'EL PRADO ', 'ELM AV', 'ELM ST', 'ENGINEER RD', 'ESCALA DR', 'ESTELLE ST', 'COPLEY DR', 'COPLEY PARK  PL', 'COPLEY PARK PL', 'CORONADO AV', 'CORONADO BRIDGE ', 'COTTONWOOD RD', 'COUNTRY CLUB DR', 'EVENING CRK N DR', 'COWLES MTN BL', 'EVENING CRK S DR', 'EVERGREEN ST', 'EXECUTIVE DR', 'COWLEY WY', 'EXECUTIVE WY', 'CREEKVIEW DR', 'F ST', 'CROWN POINT  DR', 'CROWN POINT DR', 'CRYSTALAIRE DR', 'CURLEW ST', 'CYPRESS CYN PARK DR', 'CYPRESS CYN RD', 'FAIRBROOK RD', 'DALEY CENTER DR', 'DANA LANDING RD', 'DAWES  ST', 'DEL DIABLO WY', 'FAMOSA BL', 'DEL MAR  AV', 'FASHION VY RD', 'FAY AV', 'FEDERAL BL']\n",
      "\n",
      "\n",
      "2\n",
      "['05 AV', '06 AV', '54 ST', 'AERO DR', 'BLACK MOUNTAIN RD', 'BROADWAY ', 'BERNARDO CTR DR', 'BLACK MTN RD', 'CARMEL MTN RD', 'CAMINO NORTE', 'CARMEL VY RD', 'CAMINO RIO W ', 'CLAIREMONT DR', 'CLAIREMONT MS BL', 'COLLEGE AV', 'EUCLID AV', 'FAIRMOUNT AV', 'DEL MAR HTS RD', 'GARNET AV', 'EL CAMINO REAL ', 'GRAND AV', 'HARBOR DR', 'IMPERIAL AV', 'INGRAHAM ST', 'KEARNY VILLA RD', 'KETTNER BL', 'L J VILGE DR', 'LA JOLLA BL', 'LAUREL ST', 'MARKET ST', 'MIDWAY DR', 'MIRA MS BL', 'MISSION BL', 'LA JOLLA VILLAGE DR', 'MONTEZUMA RD', 'MORENA BL', 'N HARBOR DR', 'NIMITZ BL', 'NOBEL DR', 'PACIFIC HY', 'PALM AV', 'MISSION BAY DR', 'PARK BL', 'MISSION GORGE RD', 'POMERADO RD', 'QUALCOMM WY', 'ROSECRANS ST', 'SEA WORLD DR', 'OTAY MESA RD', 'SUNSET CLIFFS BL', 'TEXAS ST', 'RANCHO BERNARDO RD', 'WASHINGTON ST', 'TORREY PINES RD', 'VIA VALLE ', 'W MISSION BAY DR']\n",
      "\n",
      "\n",
      "4\n",
      "['BALBOA AV', 'CLAIREMONT MESA BL', 'EL CAJON BL', 'FRIARS RD', 'GENESEE AV', 'MIRAMAR RD', 'MIRA MESA BL', 'UNIVERSITY AV']\n",
      "\n",
      "\n",
      "1\n",
      "['DEL MAR MESA RD', 'DEL MAR SCENIC PY', 'DEL MAR TRAILS RD', 'DEL SOL  BL', 'FELSPAR ST', 'FENTON MKTPL DY', 'FENTON PY', 'FERN GL', 'FERN ST', 'FIELD ST', 'FLANDERS DR', 'DEL SUR  BL', 'DEL SUR BL', 'FLORIDA DR', 'DIAMOND ST', 'FLORIDA ST', 'FONTAINE ST', 'FOOTHILL BL', 'FORWARD ST', 'FRAZEE RD', 'DORMOUSE RD', 'DUENDA RD', 'DUSK DR', 'E BEYER  BL', 'E BEYER BL', 'E MISSION BAY  DR', 'E MISSION BAY DR', 'E OCEAN AIR DR', 'EASTBOURNE RD', 'FRONT ST', 'EL CAJON  BL', 'FROST ST', 'FORT STOCKTON DR', 'G ST', 'GAGE DR', 'GALVIN AV', 'GATEWAY CTR DR', 'GATEWAY DR', 'GEMINI AV', 'EL PASEO GRANDE ', 'ENGINEER  RD', 'ENRICO FERMI DR', 'ENTERPRISE ST', 'ESSEX ST', 'EUCLID  AV', 'GENOA DR', 'GESNER ST', 'GILMAN DR', 'GIRARD AV', 'GLENROY ST', 'GOLD COAST DR', 'GOLDFINCH ST', 'GOLFCREST DR', 'EVENING CRK DR', 'EVENING CRK E DR', 'GOVERNOR DR', 'FAIRBROOK  RD', 'FAIRMOUNT  AV', 'GRANDEE PL', 'GRAPE ST', 'GRAYDON RD', 'GREENFORD DR', 'GREYLING DR', 'GROVE AV', 'GULLSTRAND ST', 'HALF MILE DR', 'HAMMOND DR', 'HANCOCK ST', 'FANUEL ST', 'FARMINGDALE ST', 'FASHION VALLEY RD', 'FATHER JUNIPERO SERRA TL', 'FERN GLEN  NEPTUNE', 'FIELD  ST', 'FIESTA ISLAND RD', 'HATHAWAY ST', 'HAWK ST', 'HAWTHORN ST', 'FLANDERS LN', 'FLORIDA AV', 'HAZARD CTR DR', 'HEALTH CTR DR', 'HERITAGE RD', 'FOOTHILL  BL', 'HIBERT ST', 'HICKMAN FLD DR', 'HIDDEN VY RD', 'HIGH BLUFF DR', 'HIGHWOOD DR', 'HILL ST', 'HILLERY DR', 'FRIAIRS  RD', 'FRIARS  RD', 'HILLTOP DR', 'HLAND RANCH RD', 'HOLIDAY CT', 'HOLLISTER ST', 'HOME AV', 'HONEY DR', 'HOTEL CR N ', 'FRONT  ST', 'HOWARD AV', 'FROST MAR PL', 'HYACINTH DR', 'ILLION ST', 'G  ST', 'INDIA ST', 'GARNET ST', 'GARRISON ST', 'INGULF ST', 'INNOVATION DR', 'IRIS AV', 'ISLAND AV', 'J J HOPKINS DR', 'J J MONTGOMER DR', 'J ST', 'JACKSON DR', 'JAMACHA RD', 'GENTER ST', 'GEORGE COOKE EXPRESS DR', 'GEORGIA ST BRIDGE ', 'JUAN ST', 'JUNIPER ST', 'JUTLAND DR', 'KEARNEY AV', 'KEARNY MS RD', 'GOLF COURSE DR', 'GOODE ST', 'KELTON RD', 'KEMPER ST', 'GRAMERCY DR', 'KENAMAR DR', 'KENWOOD ST', 'GRAPE  ST', 'KITE ST', 'KRAMER ST', 'KRENNING ST', 'KURTZ ST', 'L J COLONY DR', 'GREENBRIER AV', 'L J MS DR', 'HAINES ST', 'L J RHO RD', 'HANCOCK  ST', 'HANCOOK ST', 'HARBISON AV', 'LA CUENTA DR', 'HARBOR ISLAND DR', 'HARFIELD AV', 'HARNEY ST', 'LA JOLLA PY', 'LA MEDIA RD', 'HARTFIELD AV', 'HARVEST RD', 'LA TORTOLA ', 'LANDIS ST', 'HAZARD CENTER DR', 'HEALTH CENTER DR', 'LANDSCAPE DR', 'LANSDALE DR', 'HEINRICH HERTZ DR', 'HERMES ST', 'HERSCHEL AV', 'HICKMAN FIELD DR', 'HIGH BLUF DR', 'HIGHLAND RH RD', 'LEBON DR', 'LEHRER DR', 'LELAND ST', 'HIGHLAND VY RD', 'LEON AV', 'LEWIS ST', 'LIBRA DR', 'LIMERICK AV', 'HILL  ST', 'HILLSIDE DR', 'LINCOLN AV', 'HOLLISTER  ST', 'LINDA ROSA AV', 'LINDA VIS RD', 'HOLLY DR', 'HOME  AV', 'HOTEL CIRCLE N ', 'LIPMANN ST', 'LISBON ST', 'HOTEL CIRCLE S ', 'LK MURRAY BL', 'LOGAN AV', 'HUGHES ST', 'HUGO ST', 'I-15 NB RAMP 1 ', 'I-15 NB RAMP 2 ', 'LOMALAND DR', 'IDLEWILD WY', 'LOMICA DR', 'LONG RUN DR', 'LORING ST', 'LOWELL ST', 'LUNA AV', 'LUSK BL', 'LYTTON ST', 'MACAULAY ST', 'MADERA ST', 'MADISON AV', 'MADRA AV', 'MAGNATRON BL', 'INDIA  ST', 'MAIN SB ST', 'MAIN ST', 'MALLARD ST', 'MANGO DR', 'MARATHON DR', 'MARGERUM AV', 'INGRAGAM ST', 'INNOVATION  DR', 'IRON WOOD RD', 'IVANHOE AV', 'J J MONTGOMERY DR', 'MARLBOROUGH AV', 'JACKSON ST', 'JADE COAST DR', 'JADE COAST RD', 'JEFFERSON ST', 'JEWELL ST', 'MARLBOROUGH DR', 'MARLESTA DR', 'MARMIL WY', 'MAST BL', 'MATINAL RD', 'JOHN J HOPKINS DR', 'JOHN J MONTGOMERY DR', 'MATURIN DR', 'MCGUIRE DR', 'MEADE AV', 'K ST', 'KEARNEY MESA RD', 'KEARNEY VILLA RD', 'MEADOWBROOK DR', 'KEARNY MESA RD', 'KEARNY MISSION RD', 'MERCER LN', 'MERCER ST', 'MERCURY ST', 'KEARNY VILLA  RD', 'MERCY RD', 'MERLIN DR', 'METROPOLITAN DR', 'MIDVALE DR', 'KEMPER  ST', 'MILL PEAK RD', 'MILTON ST', 'KETTNER  BL', 'KIOWA DR', 'KLAUBER AV', 'KNOXVILLE ST', 'MIRALANI DR', 'MIRAMAR PL', 'KURTZ  ST', 'LA CANADA ST', 'MIRAMAR WY', 'MISSION AV', 'LA JOLLA COLONY DR', 'LA JOLLA HERMOSA AV', 'LA JOLLA MESA DR', 'LA JOLLA SCENIC DR', 'MOBLEY ST', 'LA JOLLA SHORES DR', 'MOCKING BIRD DR', 'MONROE AV', 'LA JOLLA VILLAGE  DR', 'LA JOLLA VILLAGE PKWY', 'LA MEDIA  RD', 'MONTONGO ST', 'LA PLAYA AV', 'LAKE ARROWHEAD DR', 'LAKE MURRAY BL', 'MONUMENT RD', 'MOORE ST', 'MORAGA AV', 'LAKE SHORE DR', 'LAMONT ST', 'MOREHOUSE DR', 'LANCE ST', 'LAS FLORES TR', 'LAUREL  ST', 'MS COL DR', 'MSS BAY DR', 'LAZANJA DR', 'LEA ST', 'MSS CTR RD', 'LEWISON DR', 'LIGHTWAVE AV', 'MSS GORGE RD', 'LINCOLN  AV', 'MSS VILGE DR', 'LINDA VISTA RD', 'MSS VY RD', 'MT ABERNATHY AV', 'MT ACADIA BL', 'MT AGUILAR DR', 'LIPMAN ST', 'MT ALIFAN DR', 'LIVINGSTON ST', 'LOFTY TRAIL DR', 'MT ARARAT DR', 'MT DAVIS AV', 'MT ETNA DR', 'MT EVEREST BL', 'MT HERBERT AV', 'LONE QUAIL  RD', 'LONGFORD ST', 'MTE VIS AV', 'LOOKOUT DR', 'MUNDA RD', 'MURPHY CYN RD', 'LOTUS DR', 'MURRAY RDG RD', 'LYTTON  ST', 'MAGNOLIA  AV', 'MAGNOLIA AV', 'N PK WY', 'MAHAILA AV', 'N T PINES RD', 'NANCY RDG DR', 'NAPA ST', 'NARRAGANSETT AV', 'MANZANA WY', 'MARKET  ST', 'NATIONAL AV', 'NAUTILUS ST', 'NAVAJO RD', 'NEW SALEM ST', 'NEWPORT AV', 'NILE ST', 'MARYLAND ST', 'NOELL ST', 'MATINAL DR', 'MATURIN  DR', 'NORMAL ST', 'MAYA LINDA RD', 'NORTHSIDE DR', 'NOTTINGHAM PL', 'NUTMEG ST', 'OAKRIDGE RD', 'OBERLIN DR', 'OCEAN VW BL', 'MEADOW LARK DR', 'OHIO ST', 'MERCURY  ST', 'OLD TOWN AV', 'OLIVE AV', 'OLIVETAS AV', 'OLNEY ST', 'MERRIMAC AV', 'OLVERA AV', 'MESA COLLEGE DR', 'ORANGE AV', 'ORCHARD AV', 'OSLER ST', 'OTAY CTR DR', 'MIDWAY ST', 'MILCH RD', 'OTAY VY RD', 'OTHELLO AV', 'MIRA MESA  BL', 'PAC BEACH DR', 'PAC CTR BL', 'PAC HTS BL', 'PAC MS BL', 'MIRA SORRENTO PL', 'MIRAMAR  RD', 'MIRAMAR  WY', 'PACIFICA DR', 'PALM ST', 'PALMILLA DR', 'MISSION  BL', 'PARADISE VY RD', 'PARKDALE AV', 'MISSION CITY PY', 'PARKSIDE AV', 'MISSION CTR DR', 'MISSION CTR RD', 'PEARL ST', 'PEGASUS AV', 'PENASQUITOS DR', 'MISSION GORGE  PL', 'PENNANT WY', 'MISSION GORGE  RD', 'MISSION GORGE PL', 'PERSHING DR', 'PETIT ST', 'PHYLLIS PL', 'PICADOR BL', 'MISSION VILLAGE  DR', 'PK RDG BL', 'MISSION VILLAGE DR', 'MISSION VILLAGE RD', 'PK VILGE RD', 'MITCHER WY', 'PLAZA BL', 'PLUM ST']\n",
      "\n",
      "\n",
      "3\n",
      "['POBLADO RD', 'POINSETTIA DR', 'MONTE VISTA AV', 'MONTEZUMA  RD', 'MONUMENT  RD', 'POPLAR ST', 'POTOMAC ST', 'MORAGA  AV', 'MORENA  BL', 'POWAY RD', 'PRESIDENTS WY', 'PRESIDIO DR', 'PRESTWICK DR', 'PRINCESS VW DR', 'PRODUCTION AV', 'PROSPECT PL', 'PSO AMERICAS ', 'PSO LUCIDO ', 'MORLEY FIELD DR', 'PSO MONTALBAN ', 'MORNING CRK N DR', 'MORNING CRK S DR', 'MORRELL ST', 'MOUNTAIN VIEW DR', 'PSO VERANO ', 'PT LOMA AV', 'QUARTER MILE DR', 'QUINCE DR', 'RADCLIFFE DR', 'RAEJEAN AV', 'RAY ST', 'MT AVERNATHY AV', 'REAGAN RD', 'RED CEDAR DR', 'REDWOOD ST', 'MUIRLANDS DR', 'REGENTS RD', 'MUIRLANDS VISTA WY', 'MURPHY CANYON RD', 'MURPHY CYN  RD', 'REO DR', 'MURRAY CYN  RD', 'MURRAY PARK DR', 'MURRAY RIDGE  RD', 'MURRAY RIDGE RD', 'RESERVOIR DR', 'REYNARD WY', 'N HARBOR  DR', 'RHO BERNARDO RD', 'RHO CARMEL DR', 'RHO MSS RD', 'RHO PENASQUIT BL', 'N MISSION BAY  DR', 'N MISSION BAY DR', 'RICHMOND ST', 'N MOUNTAIN VIEW DR', 'N TORREY PINES RD', 'RIO BONITO WY', 'RIO SN DIEGO DR', 'RIVER RUN DR', 'RIVERDALE ST', 'NANCY RIDGE DR', 'ROBINSON AV', 'NARANJA ST', 'NATIONAL  AV', 'ROCKWOOD RD', 'ROLFE RD', 'RONSON RD', 'NAVAJO  RD', 'ROSELLE ST', 'RUFFIN CT', 'NIAGARA AV', 'RUFFIN RD', 'NIMITS BL', 'RUFFNER ST', 'S VIS AV', 'SABRE SPRS PY', 'SAIPAN DR', 'SALMON RIVER RD', 'SAMPSON ST', 'SANDROCK RD', 'NORMAN SCOTT RD', 'NORSTAD AV', 'SANTO RD', 'NORTH PARK WY', 'NORTHSIDE  DR', 'SANYO AV', 'OCEAN VIEW  BL', 'SASSAFRAS ST', 'OCEAN VIEW BL', 'SATELLITE BL', 'SATURN BL', 'SCHLEY ST', 'OCEAN VIEW HILLS PY', 'SCI PK RD', 'OCEAN VIEW PY', 'SCOTT ST', 'OLD CARMEL VY RD', 'OLD EL CAMINO REAL ', 'OLD MEMORY LN', 'SCR LAKE DR', 'OLD MILKY WY', 'OLD SAN PASCUAL RD', 'SCR POWAY PY', 'SCR RH BL', 'SCRANTON RD', 'ORCUTT AV', 'SCRIPPS ST', 'SCRIPPS TL', 'ORO VISTA RD', 'SD 005 W FR ', 'SD 078 ', 'OSBORNE ST', 'SD 805 RAMP ', 'OTAY CENTER RD', 'SEMILLON BL', 'SEMINOLE DR', 'SHAWLINE ST', 'SHELTER IS DR', 'SHERMAN ST', 'OUTER RD', 'OVIEDO ST', 'SHOAL CRK DR', 'PACIFIC  HWY', 'PACIFIC BEACH DR', 'SIEMPRE VIVA RD', 'PACIFIC CENTER BL', 'PACIFIC CTR BL', 'SILVER GT AV', 'SILVERTON AV', 'SKYLINE DR', 'PACIFIC DR', 'PACIFIC HIGHLANDS RH PY', 'PACIFIC HIGHWAY ', 'PACIFIC HIGHWAY VIADUCT ', 'PACIFIC HTS BL', 'SMYTHE AV', 'SN CARLOS DR', 'SN DIEGO AV', 'SN DIEGO MSS RD', 'SN YSIDRO BL', 'PACIFIC MESA BL', 'PALM  AV', 'SOLEDAD MTN RD', 'SOLEDAD RD', 'SORRENTO VY BL', 'SORRENTO VY RD', 'PALOMAR AV', 'PARADISE HILLS RD', 'SPARREN AV', 'SPORTS ARENA BL', 'PARK  BL', 'SPR CYN RD', 'PARK RIDGE BL', 'PARK VILLAGE RD', 'SPRINGBROOK DR', 'SPRINGHURST DR', 'STADIUM ST', 'PASEO AMERICAS ', 'STARLING DR', 'PASEO CARDIEL ', 'PASEO DORADO ', 'STATE ST', 'PASEO LUCIDO ', 'PASEO MONTALBAN ', 'PASEO MONTANOSO ', 'PASEO MONTRIL ', 'STREAMVIEW DR', 'PASEO SUR ', 'PASEO SUR  ', 'PASEO VERANO ', 'PASEO VERANON ', 'STRESEMANN ST', 'SUCCESS AV', 'SUGARMAN DR', 'SUNDEVIL WY', 'SUNSET BL', 'PENNSYLVANIA AV', 'PEREZ COVE PRIVATE WY', 'PESCADERO AV', 'SUNSET RD', 'SUNSET RDG DR', 'SUTTER ST', 'SWIFT AV', 'PICCARD AV', 'SYCHAR RD', 'PICO ST', 'PINECREST AV', 'SYRACUSE AV', 'T BLUFF DR', 'PLAZA PANAMA ', 'POINT LOMA AV', 'T PINES RD', 'POINT LOMA AV ', 'POINT LOMA BL', 'T WILLIAMS PY', 'TAIT ST', 'TALBOT ST', 'TAYLOR ST', 'TECOLOTE RD', 'TENNYSON ST', 'THERMAL AV', 'THORN ST', 'PORTOBELO DR', 'PORTOFINO DR', 'TIERRASANTA BL', 'TIMBERLAKE DR', 'TOCAYO AV', 'TONAWANDA DR', 'TOOMA ST', 'POWAY  RD', 'TORRINGTON ST', 'TOWNE CTRE DR', 'TOWNSGATE DR', 'TRADE PL', 'TRADE ST', 'TREENA ST', 'PRINCESS ST', 'PRINCESS VIEW DR', 'TROJAN AV', 'TULIP ST', 'PROSPECT ST', 'TURQUOISE ST', 'TWAIN AV', 'PSO VERANO N ', 'TWIN TLS DR', 'QUINCY ST', 'QUIVIRA RD', 'ULRIC ST', 'QUIVIRA WY', 'RACINE RD', 'RANCHO CARMEL DR', 'RANCHO HILLS DR', 'RANCHO MISSION  RD', 'RANCHO MISSION RD', 'RANCHO PENASQUITOS BL', 'RAYTHEON RD', 'REAJEAN AV', 'REED AV', 'REGENTS  RD', 'UPAS ST', 'RHO CARMEL  DR', 'RHO PENASQUITOS BL', 'RICHLAND ST', 'RIDGE MANOR AV', 'RIO SAN DIEGO DR', 'UTAH ST', 'RIOS RD', 'RIVIERA  DR', 'RIVIERA DR', 'VALENCIA PY', 'ROBBINS ST', 'VALETA ST', 'VANDEVER AV', 'VERMONT ST', 'ROLANDO BL', 'VESTA ST', 'ROLL DR', 'ROMERO DR', 'RONSON  RD', 'VIA ALICANTE ', 'RONSON RD ', 'VIA AMISTAD ', 'VIA CAPRI ', 'VIA CUMBRES ', 'VIA D L VALLE ', 'VIA MALLORCA ', 'VIA SN YSIDRO ', 'VIA VALARTA ', 'VIEWRIDGE AV', 'VILLA L J DR', 'ROSELLE  ST', 'VIS SORRENTO PY', 'ROSWELL ST', 'RTE 252 ', 'RUE CHAMBERRY ', 'VOLTAIRE ST', 'VY CTRE DR', 'W BERNARDO DR', 'RUSS BL', 'W CYN AV', 'SABRE SPRINGS PY', 'W HILLS BL', 'W HILLS PY', 'W MORENA BL', 'W MSS BAY DR', 'W MUIRLANDS DR', 'SAN ANDRES DR', 'W OCEAN AIR DR', 'W PT LOMA BL', 'SAN CARLOS DR', 'SAN DIEGO  AV', 'SAN DIEGO AV', 'SAN DIEGO MISSION  RD', 'WANDERMERE DR', 'SAN DIEGO MISSION RD', 'WARD RD', 'WARING RD', 'SAN DIEGUITO RD', 'WASHINGTON PL', 'SAN JACINTO  DR', 'SAN JACINTO DR', 'SAN PASQUAL RD', 'SAN PASQUAL ST', 'SAN PASQUAL VY RD', 'SAN VICENTE ST', 'SAN YSIDRO BL', 'WESTMORE RD', 'SANTA BARBARA ST', 'SANTA FE ST', 'WESTONHILL DR', 'SANTA MONICA AV', 'SANTO  RD', 'WESTVIEW PY', 'WIGHTMAN ST', 'WILLOW CRK RD', 'WILLOW RD', 'WINDING CRK DR', 'WITHERBY ST', 'WOODMAN ST', 'SCIENCE PARK RD', 'WOODROW AV', 'SCRIPPS CRK DR', 'WORDEN ST', 'SCRIPPS LAKE DR', 'ZION AV', 'SCRIPPS LK DR', 'SCRIPPS POWAY PY', 'ZOO PL', 'SCRIPPS RH  BL', 'SCRIPPS RH BL', 'SD 905 ', 'SEA WORLD WY', 'SHAWNEE RD', 'SHELTER ISLAND DR', 'SILVERADO ST', 'SKYLINE  DR', 'SODERBLOM AV', 'SOLEDAD  AV', 'SORRENTO VALLEY BL', 'SORRENTO VY PY', 'SPECTRUM CT', 'SPRING CYN RD', 'SPRUCE RUN DR', 'SPRUCE ST', 'STALMER ST', 'STATE  ST', 'STONEBRIDGE PY', 'STONECREST BL', 'STONEY PEAK DR', 'SUNSET  RD', 'SUNSET RIDGE DR', 'SUSET RIDGE DR', 'TECH WY', 'TED WILLIAMS PY', 'THOMAS AV', 'TIERRASANTA  BL', 'TOP GUN ST', 'TORREY BLUFF DR', 'TORREY MEADOWS DR', 'TORREY SANTA FE RD', 'TRADE  PL', 'TRIANA ST', 'TRINIDAD WY', 'TWAIN  AV', 'TWIGGS ST', 'TWIN TRAILS DR', 'TWINING AV', 'UNIVERSITY  AV', 'UTE DR', 'VALLEY CTRE DR', 'VALLEY RD', 'VAN DYKE  AV', 'VAN DYKE AV', 'VENTURA PL', 'VETERANS HOSPITAL DR', 'VIA CAMPO ', 'VIA CAMPO W BERNARDO DR', 'VIA DE LA VALLE ', 'VIA GRANDE DR', 'VIA SAN YSIDRO ', 'VICKERS ST', 'VIKING WY', 'VILLA LA JOLLA DR', 'VILLAGE PL', 'VIRGINIA WY', 'VISTA GRANDE DR', 'VISTA HILL AV', 'VISTA SORRENTO PKY', 'VISTA SORRENTO PY', 'W CANYON AV', 'W CEDAR ST', 'W GRAPE ST', 'W HAWTHORN ST', 'W HILLS  PKY', 'W IVY ST', 'W LAUREL ST', 'W MISSION BAY  DR', 'W MOUNTAIN VIEW DR', 'W PARK AV', 'W POINT LOMA BL', 'WABASH BL', 'WABASKA  DR', 'WABASKA DR', 'WARD  RD', 'WARING  RD', 'WASHINGTON  ST', 'WASHINGTON AV', 'WAVERLY AV', 'WESTOVER PL', 'WILLS CRK RD', 'WINNETT ST', 'WINONA AV', 'WINONA ST', 'WOODMAN  ST', 'WORLD TRADE DR', 'WORSCH DR', 'YERBA SANTA DR', 'YSABEL CRK RD']\n",
      "\n",
      "\n"
     ]
    }
   ],
   "source": [
    "km = KMeans(n_clusters=5)\n",
    "km.fit(data)\n",
    "results = km.predict(data)\n",
    "\n",
    "# Storing each datapoint in an individual cluster\n",
    "l1 = list(total_traffic.keys())\n",
    "clusters = {}\n",
    "n = 0\n",
    "for item in results:\n",
    "    if item in clusters:\n",
    "        clusters[item].append(l1[n])\n",
    "    else:\n",
    "        clusters[item] = [l1[n]]\n",
    "    n+=1\n",
    "\n",
    "\n",
    "#Rename keys in dictionary\n",
    "#clusters[\"Yellow\"] = clusters.pop(2)\n",
    "#clusters[\"Teal\"] = clusters.pop(1)\n",
    "#for key in clusters:\n",
    "#    print(key)\n",
    "#clusters[\"Blue\"] = clusters.pop(2)\n",
    "#clusters[\"Purple\"] = clusters.pop(0)\n",
    "#clusters[\"Green\"] = clusters.pop(3)\n",
    "\n",
    "for item in clusters:\n",
    "    print(item)\n",
    "    print(clusters[item])\n",
    "    print(\"\\n\")\n"
   ]
  },
  {
   "cell_type": "code",
   "execution_count": null,
   "metadata": {
    "collapsed": true
   },
   "outputs": [],
   "source": []
  },
  {
   "cell_type": "code",
   "execution_count": 14,
   "metadata": {
    "collapsed": false
   },
   "outputs": [
    {
     "data": {
      "image/png": "[encoded data removed]",
      "text/plain": [
       "<matplotlib.figure.Figure at 0x1166b9d30>"
      ]
     },
     "metadata": {},
     "output_type": "display_data"
    }
   ],
   "source": [
    "# Let's check out the clusters that KMeans found!!!!\n",
    "plt.scatter(d1, d2, c=km.labels_);\n",
    "plt.xlabel('Observation')\n",
    "plt.ylabel('AADT')\n",
    "\n",
    "# Add title, labels and legend\n",
    "plt.title(\"Traffic Data: Location vs TV Clustered\", fontsize=18, fontweight='bold')\n",
    "plt.xlabel('Location Index', fontsize=14);\n",
    "plt.ylabel('Total Traffic Volume', fontsize=14);"
   ]
  },
  {
   "cell_type": "code",
   "execution_count": 15,
   "metadata": {
    "collapsed": false
   },
   "outputs": [],
   "source": [
    "# Construct average traffic volume segments for each of the 5 clusters\n",
    "map_avgs = dict()\n",
    "currSum = 0\n",
    "currCount = 0\n",
    "\n",
    "for item in clusters:\n",
    "    \n",
    "    # We reset current sum and current count for each new cluster\n",
    "    currSum = 0\n",
    "    currCount = 0\n",
    "    for loc in clusters[item]:\n",
    "        currSum = currSum + total_traffic[loc]\n",
    "        currCount = currCount + 1\n",
    "    \n",
    "    # set dictionary value\n",
    "    map_avgs[item] = currSum / currCount"
   ]
  },
  {
   "cell_type": "code",
   "execution_count": 16,
   "metadata": {
    "collapsed": false
   },
   "outputs": [
    {
     "name": "stdout",
     "output_type": "stream",
     "text": [
      "0\n",
      "ANTIGUA BL\n",
      "28058.35\n",
      "67.0795539069\n",
      "2\n",
      "EUCLID AV\n",
      "408621.7083333334\n",
      "9689.18340667\n",
      "4\n",
      "BALBOA AV\n",
      "1112507.3063492063\n",
      "16612.210119\n",
      "1\n",
      "MADISON AV\n",
      "24672.333333333336\n",
      "371.602101888\n",
      "3\n",
      "SCOTT ST\n",
      "25080.11111111111\n",
      "82.8786838924\n"
     ]
    }
   ],
   "source": [
    "# Determine the location closest to the average traffic volume within each cluster:\n",
    "for item in clusters:\n",
    "    minDiff = 10000000000000.0\n",
    "    optLoc = \"N/A\"\n",
    "    \n",
    "    for loc in clusters[item]:\n",
    "        if (np.fabs(total_traffic[loc] - map_avgs[item]) < minDiff):\n",
    "            minDiff = np.fabs(total_traffic[loc] - map_avgs[item])\n",
    "            optLoc = loc\n",
    "    print(item)\n",
    "    print(optLoc)\n",
    "    print(total_traffic[optLoc])\n",
    "    print(minDiff)"
   ]
  },
  {
   "cell_type": "code",
   "execution_count": 17,
   "metadata": {
    "collapsed": true
   },
   "outputs": [],
   "source": [
    "# cost per lane per 1 mi * length in miles * number of lanes\n",
    "def computeCost(miles, lanes):\n",
    "    return 326095 * miles * lanes;\n",
    "\n",
    "# energy in MJ per 20 mpg car over 1 mi * kwh in 1 MJ * cents per kwh in San Diego * number of cars\n",
    "def computeEnergy(traffic_volume):\n",
    "    return 0.305776 * 277.78 * .211 * traffic_volume;\n",
    "\n",
    "# net gain/loss is (energy's worth in $ - cost of implementation)\n",
    "def computeSavings(energy, cost):\n",
    "    return energy - cost;"
   ]
  },
  {
   "cell_type": "code",
   "execution_count": 28,
   "metadata": {
    "collapsed": false
   },
   "outputs": [
    {
     "name": "stdout",
     "output_type": "stream",
     "text": [
      "{'Small:1': ('Energy = 449486.11464582925', 'Cost = 273919.8', 'Savings = 175566.31464582926', 'Length = 0.84', 'Number of Lanes = 1'), 'Small:2': ('Energy = 442177.91540539445', 'Cost = 1010894.5', 'Savings = -568716.5845946055', 'Length = 1.55', 'Number of Lanes = 2'), 'Small:3': ('Energy = 502862.15515550267', 'Cost = 3326169.0', 'Savings = -2823306.8448444973', 'Length = 2.04', 'Number of Lanes = 5'), 'Medium': ('Energy = 7323324.176076757', 'Cost = 9456755.0', 'Savings = -2133430.823923243', 'Length = 5.8', 'Number of Lanes = 5'), 'Large': ('Energy = 19938372.060260314', 'Cost = 17374341.599999998', 'Savings = 2564030.4602603167', 'Length = 5.92', 'Number of Lanes = 9')}\n"
     ]
    }
   ],
   "source": [
    "# Create a dictionary storing information about type of street, optimal location within that category of street, \n",
    "# number of lanes approximation, energy generated approximation, and cost approximation\n",
    "\n",
    "clusters_results = dict()\n",
    "\n",
    "energy_scott = computeEnergy(total_traffic['SCOTT ST'])\n",
    "cost_scott = computeCost(0.84,1)\n",
    "savings_scott = computeSavings(energy_scott, cost_scott)\n",
    "\n",
    "energy_madison = computeEnergy(total_traffic['MADISON AV'])\n",
    "cost_madison = computeCost(1.55,2)\n",
    "savings_madison = computeSavings(energy_madison, cost_madison)\n",
    "\n",
    "energy_antigua = computeEnergy(total_traffic['ANTIGUA BL'])\n",
    "cost_antigua = computeCost(2.04,5)\n",
    "savings_antigua = computeSavings(energy_antigua, cost_antigua)\n",
    "\n",
    "energy_euclid = computeEnergy(total_traffic['EUCLID AV'])\n",
    "cost_euclid = computeCost(5.80,5)\n",
    "savings_euclid = computeSavings(energy_euclid, cost_euclid)\n",
    "\n",
    "energy_balboa = computeEnergy(total_traffic['BALBOA AV'])\n",
    "cost_balboa = computeCost(5.92,9)\n",
    "savings_balboa = computeSavings(energy_balboa, cost_balboa)\n",
    "\n",
    "clusters_results['Small:1'] = (\"Energy = \" + str(energy_scott), \"Cost = \" + str(cost_scott), \"Savings = \" + str(savings_scott), \n",
    "                               \"Length = \" + str(0.84), \"Number of Lanes = \" + str(1))\n",
    "clusters_results['Small:2'] = (\"Energy = \" + str(energy_madison), \"Cost = \" + str(cost_madison), \"Savings = \" + str(savings_madison), \n",
    "                               \"Length = \" + str(1.55), \"Number of Lanes = \" + str(2))\n",
    "clusters_results['Small:3'] = (\"Energy = \" + str(energy_antigua), \"Cost = \" + str(cost_antigua), \"Savings = \" + str(savings_antigua), \n",
    "                               \"Length = \" + str(2.04), \"Number of Lanes = \" + str(5))\n",
    "clusters_results['Medium'] = (\"Energy = \" + str(energy_euclid), \"Cost = \" + str(cost_euclid), \"Savings = \" + str(savings_euclid), \n",
    "                              \"Length = \" + str(5.80), \"Number of Lanes = \" + str(5))\n",
    "clusters_results['Large'] = (\"Energy = \" + str(energy_balboa), \"Cost = \" + str(cost_balboa), \"Savings = \" + str(savings_balboa), \n",
    "                             \"Length = \" + str(5.92), \"Number of Lanes = \" + str(9))\n",
    "\n",
    "print(clusters_results)"
   ]
  },
  {
   "cell_type": "code",
   "execution_count": 43,
   "metadata": {
    "collapsed": false
   },
   "outputs": [
    {
     "name": "stdout",
     "output_type": "stream",
     "text": [
      "Finding info for GENESEE AV...\n",
      "('Energy = 19938372.060260314', 'Cost = 17374341.599999998', 'Savings = 2564030.4602603167', 'Length = 5.92', 'Number of Lanes = 9')\n",
      "That's all we found!\n",
      "\n",
      "Finding info for CONVOY ST...\n",
      "('Energy = 502862.15515550267', 'Cost = 3326169.0', 'Savings = -2823306.8448444973', 'Length = 2.04', 'Number of Lanes = 5')\n",
      "That's all we found!\n",
      "\n",
      "Finding info for HELLO ST...\n",
      "That's all we found!\n",
      "\n"
     ]
    }
   ],
   "source": [
    "# define function: given any street, let's make predictions on energy, cost, profits, and more!\n",
    "\n",
    "def getStreetInfo(street_name):\n",
    "    print(\"Finding info for \" + street_name + \"...\")\n",
    "    for item in clusters:\n",
    "        if street_name in clusters[item] and \"SCOTT ST\" in clusters[item]:\n",
    "            print(clusters_results['Small:1'])\n",
    "        elif street_name in clusters[item] and \"MADISON AV\" in clusters[item]:\n",
    "            print(clusters_results[\"Small:2\"])\n",
    "        elif street_name in clusters[item] and \"ANTIGUA BL\" in clusters[item]:\n",
    "            print(clusters_results[\"Small:3\"])\n",
    "        elif street_name in clusters[item] and \"EUCLID AV\" in clusters[item]:\n",
    "            print(clusters_results[\"Medium\"])\n",
    "        elif street_name in clusters[item] and \"BALBOA AV\" in clusters[item]:\n",
    "            print(clusters_results[\"Large\"])\n",
    "    print(\"\\n\")\n",
    "\n",
    "getStreetInfo(\"GENESEE AV\")\n",
    "getStreetInfo(\"CONVOY ST\")\n",
    "getStreetInfo(\"HELLO ST\")"
   ]
  },
  {
   "cell_type": "code",
   "execution_count": 19,
   "metadata": {
    "collapsed": false
   },
   "outputs": [],
   "source": [
    "top10 = sorted(inter_dict, key=inter_dict.get, reverse=True)[:10]"
   ]
  },
  {
   "cell_type": "code",
   "execution_count": 20,
   "metadata": {
    "collapsed": false
   },
   "outputs": [
    {
     "name": "stdout",
     "output_type": "stream",
     "text": [
      "[('FAIRMOUNT AVE', 'INTERSTATE 8', 'CAMINO DEL RIO SOUTH'), 86400]\n",
      "[('NORTH HARBOR DR', 'WINSHIP LN', 'LAUREL ST'), 84400]\n",
      "[('CORONADO BRIDGE/ROUTE', '75 INTERSTATE 5', 'CITY LIMITS'), 79100]\n",
      "[('MIRA MESA BLVD', 'WESTVIEW PKWY', 'INTERSTATE 15'), 74200]\n",
      "[('FAIRMOUNT AVE', 'CAMINO DEL RIO SOUTH', 'MONTEZUMA RD'), 68860]\n",
      "[('WEST MISSION BAY DR', 'INGRAHAM ST', 'SEA WORLD DR'), 67620]\n",
      "[('MIRA MESA BLVD', 'BLACK MOUNTAIN DR', 'WESTVIEW PKWY'), 65000]\n",
      "[('PALM AVE/ROUTE 75', 'SATURN BLVD', 'INTERSTATE 5'), 64040]\n",
      "[('MIRAMAR RD', 'CAMINO RUIZ', 'BLACK MOUNTAIN RD'), 63940]\n",
      "[('MIRAMAR RD', 'NOBEL DR', 'EASTGATE MALL'), 63380]\n"
     ]
    }
   ],
   "source": [
    "top10info = {}\n",
    "for i in top10:\n",
    "    top10info[i] = [i, inter_dict[i]]\n",
    "    print(top10info[i])"
   ]
  },
  {
   "cell_type": "code",
   "execution_count": 21,
   "metadata": {
    "collapsed": false
   },
   "outputs": [
    {
     "name": "stdout",
     "output_type": "stream",
     "text": [
      "{('FAIRMOUNT AVE', 'INTERSTATE 8', 'CAMINO DEL RIO SOUTH'): [('FAIRMOUNT AVE', 'INTERSTATE 8', 'CAMINO DEL RIO SOUTH'), 86400, 0.3, 6], ('NORTH HARBOR DR', 'WINSHIP LN', 'LAUREL ST'): [('NORTH HARBOR DR', 'WINSHIP LN', 'LAUREL ST'), 84400, 0.7, 7], ('CORONADO BRIDGE/ROUTE', '75 INTERSTATE 5', 'CITY LIMITS'): [('CORONADO BRIDGE/ROUTE', '75 INTERSTATE 5', 'CITY LIMITS'), 79100, 2.1, 5], ('MIRA MESA BLVD', 'WESTVIEW PKWY', 'INTERSTATE 15'): [('MIRA MESA BLVD', 'WESTVIEW PKWY', 'INTERSTATE 15'), 74200, 0.2, 9], ('FAIRMOUNT AVE', 'CAMINO DEL RIO SOUTH', 'MONTEZUMA RD'): [('FAIRMOUNT AVE', 'CAMINO DEL RIO SOUTH', 'MONTEZUMA RD'), 68860, 0.3, 6], ('WEST MISSION BAY DR', 'INGRAHAM ST', 'SEA WORLD DR'): [('WEST MISSION BAY DR', 'INGRAHAM ST', 'SEA WORLD DR'), 67620, 0.3, 6], ('MIRA MESA BLVD', 'BLACK MOUNTAIN DR', 'WESTVIEW PKWY'): [('MIRA MESA BLVD', 'BLACK MOUNTAIN DR', 'WESTVIEW PKWY'), 65000, 0.3, 7], ('PALM AVE/ROUTE 75', 'SATURN BLVD', 'INTERSTATE 5'): [('PALM AVE/ROUTE 75', 'SATURN BLVD', 'INTERSTATE 5'), 64040, 0.3, 6], ('MIRAMAR RD', 'CAMINO RUIZ', 'BLACK MOUNTAIN RD'): [('MIRAMAR RD', 'CAMINO RUIZ', 'BLACK MOUNTAIN RD'), 63940, 0.8, 6], ('MIRAMAR RD', 'NOBEL DR', 'EASTGATE MALL'): [('MIRAMAR RD', 'NOBEL DR', 'EASTGATE MALL'), 63380, 0.3, 7]}\n"
     ]
    }
   ],
   "source": [
    "#manual entries of segment length in miles and average estimate of number of lanes in segment\n",
    "#when doing calculations, could also normalize all of these with 1 mile and see how the costs and stuff look like with \n",
    "#   amount of cars and lanes\n",
    "\n",
    "top10info[('FAIRMOUNT AVE', 'INTERSTATE 8', 'CAMINO DEL RIO SOUTH')].append(0.3)\n",
    "top10info[('FAIRMOUNT AVE', 'INTERSTATE 8', 'CAMINO DEL RIO SOUTH')].append(6)\n",
    "\n",
    "top10info[('NORTH HARBOR DR', 'WINSHIP LN', 'LAUREL ST')].append(0.7)\n",
    "top10info[('NORTH HARBOR DR', 'WINSHIP LN', 'LAUREL ST')].append(7)\n",
    "\n",
    "top10info[('CORONADO BRIDGE/ROUTE', '75 INTERSTATE 5', 'CITY LIMITS')].append(2.1)\n",
    "top10info[('CORONADO BRIDGE/ROUTE', '75 INTERSTATE 5', 'CITY LIMITS')].append(5)\n",
    "\n",
    "top10info[('MIRA MESA BLVD', 'WESTVIEW PKWY', 'INTERSTATE 15')].append(0.2)\n",
    "top10info[('MIRA MESA BLVD', 'WESTVIEW PKWY', 'INTERSTATE 15')].append(9)\n",
    "\n",
    "top10info[('FAIRMOUNT AVE', 'CAMINO DEL RIO SOUTH', 'MONTEZUMA RD')].append(0.3)\n",
    "top10info[('FAIRMOUNT AVE', 'CAMINO DEL RIO SOUTH', 'MONTEZUMA RD')].append(6)\n",
    "\n",
    "top10info[('WEST MISSION BAY DR', 'INGRAHAM ST', 'SEA WORLD DR')].append(0.3)\n",
    "top10info[('WEST MISSION BAY DR', 'INGRAHAM ST', 'SEA WORLD DR')].append(6)\n",
    "\n",
    "top10info[('MIRA MESA BLVD', 'BLACK MOUNTAIN DR', 'WESTVIEW PKWY')].append(0.3)\n",
    "top10info[('MIRA MESA BLVD', 'BLACK MOUNTAIN DR', 'WESTVIEW PKWY')].append(7)\n",
    "\n",
    "top10info[('PALM AVE/ROUTE 75', 'SATURN BLVD', 'INTERSTATE 5')].append(0.3)\n",
    "top10info[('PALM AVE/ROUTE 75', 'SATURN BLVD', 'INTERSTATE 5')].append(6)\n",
    "\n",
    "top10info[('MIRAMAR RD', 'CAMINO RUIZ', 'BLACK MOUNTAIN RD')].append(0.8)\n",
    "top10info[('MIRAMAR RD', 'CAMINO RUIZ', 'BLACK MOUNTAIN RD')].append(6)\n",
    "\n",
    "top10info[('MIRAMAR RD', 'NOBEL DR', 'EASTGATE MALL')].append(0.3)\n",
    "top10info[('MIRAMAR RD', 'NOBEL DR', 'EASTGATE MALL')].append(7)\n",
    "\n",
    "print(top10info)"
   ]
  },
  {
   "cell_type": "code",
   "execution_count": 22,
   "metadata": {
    "collapsed": false
   },
   "outputs": [
    {
     "name": "stdout",
     "output_type": "stream",
     "text": [
      "586971.0\n",
      "1597865.5\n",
      "3423997.5\n",
      "586971.0\n",
      "586971.0\n",
      "586971.0\n",
      "684799.5\n",
      "586971.0\n",
      "1565256.0\n",
      "684799.5\n"
     ]
    }
   ],
   "source": [
    "top10cost = {}\n",
    "for i in top10info:\n",
    "    # cost per lane per 1 mi * length in miles * number of lanes\n",
    "    top10cost[i] = 326095 * top10info[i][2] * top10info[i][3]\n",
    "    print(top10cost[i])"
   ]
  },
  {
   "cell_type": "code",
   "execution_count": 23,
   "metadata": {
    "collapsed": false
   },
   "outputs": [
    {
     "name": "stdout",
     "output_type": "stream",
     "text": [
      "1548462.0515973119\n",
      "1512618.0226251518\n",
      "1417631.345848928\n",
      "1329813.474867136\n",
      "1234109.9175114688\n",
      "1211886.6195487294\n",
      "1164930.9415952\n",
      "1147725.8076885631\n",
      "1145933.6062399552\n",
      "1135897.2781277504\n"
     ]
    }
   ],
   "source": [
    "top10energy = {}\n",
    "for i in top10info:\n",
    "    # energy in MJ per 20 mpg car over 1 mi * kwh in 1 MJ * cents per kwh in San Diego * number of cars\n",
    "    top10energy[i] = 0.305776 * 277.78 * .211 * top10info[i][1]\n",
    "    print(top10energy[i])"
   ]
  },
  {
   "cell_type": "code",
   "execution_count": 24,
   "metadata": {
    "collapsed": false
   },
   "outputs": [
    {
     "name": "stdout",
     "output_type": "stream",
     "text": [
      "961491.0515973119\n",
      "-85247.47737484821\n",
      "-2006366.154151072\n",
      "742842.474867136\n",
      "647138.9175114688\n",
      "624915.6195487294\n",
      "480131.4415952\n",
      "560754.8076885631\n",
      "-419322.3937600448\n",
      "451097.7781277504\n"
     ]
    }
   ],
   "source": [
    "top10savings = {}\n",
    "for i in top10info:\n",
    "    # cost of energy generated - cost of constructing\n",
    "    top10savings[i] = top10energy[i] - top10cost[i]\n",
    "    print(top10savings[i])"
   ]
  },
  {
   "cell_type": "code",
   "execution_count": 25,
   "metadata": {
    "collapsed": false
   },
   "outputs": [],
   "source": [
    "top10results = []\n",
    "for i in range(0, 10):\n",
    "    top10results.append([top10[i], top10cost[top10[i]], top10energy[top10[i]], top10savings[top10[i]]])"
   ]
  },
  {
   "cell_type": "code",
   "execution_count": 26,
   "metadata": {
    "collapsed": false
   },
   "outputs": [
    {
     "name": "stdout",
     "output_type": "stream",
     "text": [
      "[('FAIRMOUNT AVE', 'INTERSTATE 8', 'CAMINO DEL RIO SOUTH'), 586971.0, 1548462.0515973119, 961491.0515973119]\n",
      "[('NORTH HARBOR DR', 'WINSHIP LN', 'LAUREL ST'), 1597865.5, 1512618.0226251518, -85247.47737484821]\n",
      "[('CORONADO BRIDGE/ROUTE', '75 INTERSTATE 5', 'CITY LIMITS'), 3423997.5, 1417631.345848928, -2006366.154151072]\n",
      "[('MIRA MESA BLVD', 'WESTVIEW PKWY', 'INTERSTATE 15'), 586971.0, 1329813.474867136, 742842.474867136]\n",
      "[('FAIRMOUNT AVE', 'CAMINO DEL RIO SOUTH', 'MONTEZUMA RD'), 586971.0, 1234109.9175114688, 647138.9175114688]\n",
      "[('WEST MISSION BAY DR', 'INGRAHAM ST', 'SEA WORLD DR'), 586971.0, 1211886.6195487294, 624915.6195487294]\n",
      "[('MIRA MESA BLVD', 'BLACK MOUNTAIN DR', 'WESTVIEW PKWY'), 684799.5, 1164930.9415952, 480131.4415952]\n",
      "[('PALM AVE/ROUTE 75', 'SATURN BLVD', 'INTERSTATE 5'), 586971.0, 1147725.8076885631, 560754.8076885631]\n",
      "[('MIRAMAR RD', 'CAMINO RUIZ', 'BLACK MOUNTAIN RD'), 1565256.0, 1145933.6062399552, -419322.3937600448]\n",
      "[('MIRAMAR RD', 'NOBEL DR', 'EASTGATE MALL'), 684799.5, 1135897.2781277504, 451097.7781277504]\n"
     ]
    }
   ],
   "source": [
    "# segment, cost of building, energy generated cost, savings\n",
    "for i in top10results:\n",
    "    print(i)"
   ]
  }
 ],
 "metadata": {
  "kernelspec": {
   "display_name": "Python 3",
   "language": "python",
   "name": "python3"
  },
  "language_info": {
   "codemirror_mode": {
    "name": "ipython",
    "version": 3
   },
   "file_extension": ".py",
   "mimetype": "text/x-python",
   "name": "python",
   "nbconvert_exporter": "python",
   "pygments_lexer": "ipython3",
   "version": "3.6.0"
  }
 },
 "nbformat": 4,
 "nbformat_minor": 2
}
