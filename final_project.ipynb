{
 "cells": [
  {
   "cell_type": "code",
   "execution_count": 1,
   "metadata": {
    "collapsed": true
   },
   "outputs": [],
   "source": [
    "# Imports !\n",
    "\n",
    "%matplotlib inline\n",
    "\n",
    "import pandas as pd\n",
    "import numpy as np\n",
    "import matplotlib.pyplot as plt\n",
    "import patsy\n",
    "import statsmodels.api as sm\n",
    "from scipy.stats import ttest_ind"
   ]
  },
  {
   "cell_type": "code",
   "execution_count": 2,
   "metadata": {
    "collapsed": false
   },
   "outputs": [],
   "source": [
    "# Gather data into dataframes\n",
    "\n",
    "traffic_main_df = pd.read_csv('traffic_counts_datasd.csv')\n",
    "intersections_df = pd.read_csv('Intersections.csv')\n",
    "caltrans_df = pd.read_csv('Caltrans.csv')"
   ]
  },
  {
   "cell_type": "code",
   "execution_count": 3,
   "metadata": {
    "collapsed": false
   },
   "outputs": [],
   "source": [
    "# Perform data cleaning on the dataframes\n",
    "\n",
    "# Remove directional columns from traffic_counts\n",
    "traffic_main_df.drop('id', 1, inplace=True)\n",
    "traffic_main_df.drop('northbound_count', 1, inplace=True)\n",
    "traffic_main_df.drop('southbound_count', 1, inplace=True)\n",
    "traffic_main_df.drop('all_count', 1, inplace=True)\n",
    "traffic_main_df.drop('eastbound_count', 1, inplace=True)\n",
    "traffic_main_df.drop('westbound_count', 1, inplace=True)\n",
    "traffic_main_df.drop('file_no', 1, inplace=True)\n",
    "traffic_main_df.drop('count_date', 1, inplace=True)\n",
    "\n",
    "#Drop any rows with NaN values in traffic_main counts\n",
    "traffic_main_df.dropna(inplace=True) "
   ]
  },
  {
   "cell_type": "code",
   "execution_count": 4,
   "metadata": {
    "collapsed": false
   },
   "outputs": [],
   "source": [
    "# Data cleaning on intersections data\n",
    "\n",
    "intersections_df.drop('Document ID', 1, inplace=True)\n",
    "intersections_df.drop('Remote ID', 1, inplace=True)\n",
    "intersections_df.drop('Filename', 1, inplace=True)\n",
    "intersections_df.drop('Received At', 1, inplace=True)\n",
    "intersections_df.drop('Processed At', 1, inplace=True)\n",
    "\n",
    "# Drop any rows with NaN values in traffic_main counts\n",
    "intersections_df.dropna(inplace=True)\n",
    "\n",
    "# Clean out new page headers (extracted from PDF)\n",
    "intersections_df = intersections_df[intersections_df['1st Cross Street'] != '1st Cross Street']\n",
    "\n",
    "# Clean the traffic count values (get rid of tail symbols e.g. 'N', 'S', etc.)\n",
    "for index, row in intersections_df.iterrows():\n",
    "    row['2009'] = row['2009'].split()[0]\n",
    "    row['2010'] = row['2010'].split()[0]\n",
    "    row['2011'] = row['2011'].split()[0]\n",
    "    row['2012'] = row['2012'].split()[0]\n",
    "    row['2013'] = row['2013'].split()[0]\n",
    "\n",
    "# Taking the average traffic of all the years (2009 - 2013) and storing it in a column called \"Average AADT\"\n",
    "intersections_df['Average AADT'] = 0\n",
    "for i, row in intersections_df.iterrows():\n",
    "    avg = int((int(row['2009']) + int(row['2010']) + int(row['2011']) \n",
    "                                                    + int(row['2012']) + int(row['2013']))) / 5\n",
    "    intersections_df.set_value(i, 'Average AADT', avg) "
   ]
  },
  {
   "cell_type": "code",
   "execution_count": 5,
   "metadata": {
    "collapsed": false
   },
   "outputs": [],
   "source": [
    "# Data cleaning on caltrans dataframe\n",
    "\n",
    "caltrans_df.drop('Caltrans District ID Number', 1, inplace=True)\n",
    "caltrans_df.drop('Route Suffix', 1, inplace=True)\n",
    "caltrans_df.drop('Postmile Prefix', 1, inplace=True)\n",
    "caltrans_df.drop('Postmile Number', 1, inplace=True)\n",
    "caltrans_df.drop('Postmile Suffix', 1, inplace=True)\n",
    "caltrans_df.drop('South or Westbound Peak Hour', 1, inplace=True)\n",
    "caltrans_df.drop('South or Westbound Peak Month', 1, inplace=True)\n",
    "caltrans_df.drop('North or Eastbound Peak Hour', 1, inplace=True)\n",
    "caltrans_df.drop('North or Eastbound Peak Month', 1, inplace=True)\n"
   ]
  },
  {
   "cell_type": "code",
   "execution_count": 6,
   "metadata": {
    "collapsed": false
   },
   "outputs": [],
   "source": [
    "# Retrieve only San Diego county data\n",
    "caltrans_df = caltrans_df[caltrans_df['County'] == \"San Diego\"]\n",
    "\n",
    "# fill all NaN traffic values (directional) with 0's for average computation\n",
    "caltrans_df['South or Westbound Annual Average Daily Traffic (AADT)'].fillna(0, inplace=True)\n",
    "caltrans_df['North or Eastbound Annual Average Daily Traffic (AADT)'].fillna(0, inplace=True)\n",
    "\n",
    "# append a new column with consolidated directional traffic counts (S/W + N/E)\n",
    "caltrans_df['Total Average Daily Traffic (TADT)'] = (\n",
    "    caltrans_df['South or Westbound Annual Average Daily Traffic (AADT)'] +\n",
    "    caltrans_df['North or Eastbound Annual Average Daily Traffic (AADT)'])"
   ]
  },
  {
   "cell_type": "code",
   "execution_count": 7,
   "metadata": {
    "collapsed": false
   },
   "outputs": [],
   "source": [
    "# Create a dictionary of street-range locations to total_count\n",
    "main_dict = dict()\n",
    "main_counts = dict() # keeps track of # of keys found\n",
    "\n",
    "for i, row in traffic_main_df.iterrows():\n",
    "    keytp = (row['street_name'], row['limits'])\n",
    "    # If key already exists in the dictionary, append to count and take sum of traffic values\n",
    "    if keytp in main_dict:\n",
    "        main_counts[keytp] = main_counts[keytp] + 1\n",
    "        main_dict[keytp] = (main_dict[keytp] + row['total_count'])\n",
    "    # Otherwise, initialize key to traffic value and count to 1\n",
    "    else:\n",
    "        main_counts[keytp] = 1\n",
    "        main_dict[keytp] = row['total_count']\n",
    "\n",
    "# Computing final average of all traffic values\n",
    "for key in main_dict:\n",
    "    main_dict[key] = main_dict[key] / main_counts[key]"
   ]
  },
  {
   "cell_type": "code",
   "execution_count": 14,
   "metadata": {
    "collapsed": false
   },
   "outputs": [],
   "source": [
    "# Creating dictionary for intersection pairs\n",
    "inter_dict = dict()\n",
    "\n",
    "for i, row in intersections_df.iterrows():\n",
    "    key = (row['Primary Street'], row['1st Cross Street'])\n",
    "    # Initialize key to intersection value \n",
    "    inter_dict[key] = row['Average AADT']"
   ]
  },
  {
   "cell_type": "code",
   "execution_count": 28,
   "metadata": {
    "collapsed": false
   },
   "outputs": [
    {
     "data": {
      "text/plain": [
       "<matplotlib.axes._subplots.AxesSubplot at 0x12ceb7f28>"
      ]
     },
     "execution_count": 28,
     "metadata": {},
     "output_type": "execute_result"
    },
    {
     "data": {
      "image/png": "[encoded data removed]",
      "text/plain": [
       "<matplotlib.figure.Figure at 0x110453c50>"
      ]
     },
     "metadata": {},
     "output_type": "display_data"
    }
   ],
   "source": [
    "# Data Visualization\n",
    "from pandas.tools.plotting import scatter_matrix\n",
    "\n",
    "traffic_main_df['total_count'].plot.hist()\n"
   ]
  },
  {
   "cell_type": "code",
   "execution_count": 27,
   "metadata": {
    "collapsed": false
   },
   "outputs": [
    {
     "data": {
      "text/plain": [
       "<matplotlib.axes._subplots.AxesSubplot at 0x12cbb2470>"
      ]
     },
     "execution_count": 27,
     "metadata": {},
     "output_type": "execute_result"
    },
    {
     "data": {
      "image/png": "[encoded data removed]",
      "text/plain": [
       "<matplotlib.figure.Figure at 0x12622e4e0>"
      ]
     },
     "metadata": {},
     "output_type": "display_data"
    }
   ],
   "source": [
    "intersections_df['Average AADT'].plot.hist()\n"
   ]
  },
  {
   "cell_type": "code",
   "execution_count": 26,
   "metadata": {
    "collapsed": false
   },
   "outputs": [
    {
     "data": {
      "text/plain": [
       "<matplotlib.axes._subplots.AxesSubplot at 0x12cc93cc0>"
      ]
     },
     "execution_count": 26,
     "metadata": {},
     "output_type": "execute_result"
    },
    {
     "data": {
      "image/png": "[encoded data removed]",
      "text/plain": [
       "<matplotlib.figure.Figure at 0x12d9fca90>"
      ]
     },
     "metadata": {},
     "output_type": "display_data"
    }
   ],
   "source": [
    "caltrans_df['Total Average Daily Traffic (TADT)'].plot.hist()"
   ]
  }
 ],
 "metadata": {
  "kernelspec": {
   "display_name": "Python 3",
   "language": "python",
   "name": "python3"
  },
  "language_info": {
   "codemirror_mode": {
    "name": "ipython",
    "version": 3
   },
   "file_extension": ".py",
   "mimetype": "text/x-python",
   "name": "python",
   "nbconvert_exporter": "python",
   "pygments_lexer": "ipython3",
   "version": "3.6.0"
  }
 },
 "nbformat": 4,
 "nbformat_minor": 2
}
