{
 "cells": [
  {
   "cell_type": "code",
   "execution_count": 3,
   "metadata": {
    "collapsed": true
   },
   "outputs": [],
   "source": [
    "# Imports !\n",
    "\n",
    "%matplotlib inline\n",
    "\n",
    "import pandas as pd\n",
    "import numpy as np\n",
    "import matplotlib.pyplot as plt\n",
    "import patsy\n",
    "import statsmodels.api as sm\n",
    "from scipy.stats import ttest_ind"
   ]
  },
  {
   "cell_type": "code",
   "execution_count": 7,
   "metadata": {
    "collapsed": false
   },
   "outputs": [
    {
     "data": {
      "text/html": [
       "<div>\n",
       "<table border=\"1\" class=\"dataframe\">\n",
       "  <thead>\n",
       "    <tr style=\"text-align: right;\">\n",
       "      <th></th>\n",
       "      <th>Document ID;\"Remote ID\";Filename;\"Received At\";\"Processed At\";\"Table Data\";\"Table Data 1\";\"Table Data 2\";\"Table Data 3\";\"Table Data 4\";\"Table Data 5\";\"Table Data 6\";\"Table Data 7\"</th>\n",
       "    </tr>\n",
       "  </thead>\n",
       "  <tbody>\n",
       "    <tr>\n",
       "      <th>0</th>\n",
       "      <td>365c3373ce58dd5e504658f0d744bcf0;;sandiego_adt...</td>\n",
       "    </tr>\n",
       "    <tr>\n",
       "      <th>1</th>\n",
       "      <td>365c3373ce58dd5e504658f0d744bcf0;;sandiego_adt...</td>\n",
       "    </tr>\n",
       "    <tr>\n",
       "      <th>2</th>\n",
       "      <td>365c3373ce58dd5e504658f0d744bcf0;;sandiego_adt...</td>\n",
       "    </tr>\n",
       "    <tr>\n",
       "      <th>3</th>\n",
       "      <td>365c3373ce58dd5e504658f0d744bcf0;;sandiego_adt...</td>\n",
       "    </tr>\n",
       "    <tr>\n",
       "      <th>4</th>\n",
       "      <td>365c3373ce58dd5e504658f0d744bcf0;;sandiego_adt...</td>\n",
       "    </tr>\n",
       "  </tbody>\n",
       "</table>\n",
       "</div>"
      ],
      "text/plain": [
       "  Document ID;\"Remote ID\";Filename;\"Received At\";\"Processed At\";\"Table Data\";\"Table Data 1\";\"Table Data 2\";\"Table Data 3\";\"Table Data 4\";\"Table Data 5\";\"Table Data 6\";\"Table Data 7\"\n",
       "0  365c3373ce58dd5e504658f0d744bcf0;;sandiego_adt...                                                                                                                                 \n",
       "1  365c3373ce58dd5e504658f0d744bcf0;;sandiego_adt...                                                                                                                                 \n",
       "2  365c3373ce58dd5e504658f0d744bcf0;;sandiego_adt...                                                                                                                                 \n",
       "3  365c3373ce58dd5e504658f0d744bcf0;;sandiego_adt...                                                                                                                                 \n",
       "4  365c3373ce58dd5e504658f0d744bcf0;;sandiego_adt...                                                                                                                                 "
      ]
     },
     "execution_count": 7,
     "metadata": {},
     "output_type": "execute_result"
    }
   ],
   "source": [
    "# Gather data into dataframes\n",
    "\n",
    "traffic_main_df = pd.read_csv('traffic_counts_datasd.csv')\n",
    "intersections_df = pd.read_csv('sd_intersections.csv')"
   ]
  }
 ],
 "metadata": {
  "kernelspec": {
   "display_name": "Python 3",
   "language": "python",
   "name": "python3"
  },
  "language_info": {
   "codemirror_mode": {
    "name": "ipython",
    "version": 3
   },
   "file_extension": ".py",
   "mimetype": "text/x-python",
   "name": "python",
   "nbconvert_exporter": "python",
   "pygments_lexer": "ipython3",
   "version": "3.6.0"
  }
 },
 "nbformat": 4,
 "nbformat_minor": 2
}
